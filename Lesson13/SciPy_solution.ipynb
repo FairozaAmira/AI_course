{
 "cells": [
  {
   "cell_type": "markdown",
   "metadata": {},
   "source": [
    "# Solutions for SciPy Exercises"
   ]
  },
  {
   "cell_type": "markdown",
   "metadata": {},
   "source": [
    "**Question 1**\n",
    "\n",
    "Let's try to interpolate a smooth curve between some data.\n",
    "Use the list of data as below.\n",
    "\n",
    "`y = np.linspace(0, 20, 5)`\n",
    "\n",
    "`x = np.sin(x)`\n",
    "\n",
    "Import `numpy` and import `interpolate` from `scipy.`\n",
    "Use `.interp1d()` funtion to interpolate.\n",
    "\n",
    "Use `matplotlib.pyplot` library to plot the graph."
   ]
  },
  {
   "cell_type": "code",
   "execution_count": 4,
   "metadata": {},
   "outputs": [
    {
     "data": {
      "image/png": "[encoded data removed]",
      "text/plain": [
       "<Figure size 432x288 with 1 Axes>"
      ]
     },
     "metadata": {
      "needs_background": "light"
     },
     "output_type": "display_data"
    }
   ],
   "source": [
    "import numpy as np\n",
    "import matplotlib.pyplot as plt\n",
    "from scipy import interpolate\n",
    "\n",
    "x = np.linspace(0, 20, 5)\n",
    "y = np.sin(x)\n",
    "\n",
    "func = interpolate.interp1d(x, y, kind = 'cubic')\n",
    "\n",
    "x_interp = np.linspace(0,20,1000)\n",
    "y_interp = func(x_interp)\n",
    "\n",
    "plt.figure(1)\n",
    "plt.plot(x, y, 'o')\n",
    "plt.plot(x_interp, y_interp)\n",
    "plt.show()"
   ]
  },
  {
   "cell_type": "markdown",
   "metadata": {},
   "source": [
    "**Question 2**\n",
    "\n",
    "Let's try to use the FFT package to transform a data by using Discrete Cosine Transform (DCT).\n",
    "\n",
    "DCT expresses a finite sequence of data points in terms of a sum of cosine functions oscillating at different frequencies. \n",
    "Use `scipy.fftpack` library to import `dct`. Inverse it back again by using `idct` function.\n",
    "\n",
    "Use the data below to transform.\n",
    "`np.array([4. , 3. , 5. , 10., 5., 3.]))`"
   ]
  },
  {
   "cell_type": "code",
   "execution_count": 2,
   "metadata": {},
   "outputs": [
    {
     "name": "stdout",
     "output_type": "stream",
     "text": [
      "[ 4.  3.  5. 10.  5.  3.]\n",
      "[ 60.          -3.48476592 -13.85640646  11.3137085    6.\n",
      "  -6.31319305]\n"
     ]
    }
   ],
   "source": [
    "from scipy.fftpack import dct, idct\n",
    "\n",
    "data = np.array([4. , 3. , 5. , 10., 5., 3.])\n",
    "print (data)\n",
    "dct_data = dct(data)\n",
    "print (dct_data)"
   ]
  },
  {
   "cell_type": "code",
   "execution_count": 3,
   "metadata": {},
   "outputs": [
    {
     "name": "stdout",
     "output_type": "stream",
     "text": [
      "[ 48.  36.  60. 120.  60.  36.]\n"
     ]
    }
   ],
   "source": [
    "idct_data = idct(dct_data)\n",
    "print(idct_data)"
   ]
  },
  {
   "cell_type": "code",
   "execution_count": null,
   "metadata": {},
   "outputs": [],
   "source": []
  }
 ],
 "metadata": {
  "kernelspec": {
   "display_name": "Python 3",
   "language": "python",
   "name": "python3"
  },
  "language_info": {
   "codemirror_mode": {
    "name": "ipython",
    "version": 3
   },
   "file_extension": ".py",
   "mimetype": "text/x-python",
   "name": "python",
   "nbconvert_exporter": "python",
   "pygments_lexer": "ipython3",
   "version": "3.7.3"
  }
 },
 "nbformat": 4,
 "nbformat_minor": 2
}
