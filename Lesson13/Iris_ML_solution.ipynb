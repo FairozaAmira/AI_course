{
  "nbformat": 4,
  "nbformat_minor": 0,
  "metadata": {
    "colab": {
      "name": "Iris_ML_solution.ipynb",
      "version": "0.3.2",
      "provenance": [],
      "collapsed_sections": []
    },
    "kernelspec": {
      "name": "python3",
      "display_name": "Python 3"
    },
    "accelerator": "GPU"
  },
  "cells": [
    {
      "cell_type": "markdown",
      "metadata": {
        "id": "aA5d5X0sdpym",
        "colab_type": "text"
      },
      "source": [
        "**Tutorial for the IRIS dataset classification by using Machine Learning**\n",
        "\n",
        "This tutorial is referred from [github repo](https://github.com/amueller/introduction_to_ml_with_python/blob/master/01-introduction.ipynb), [kaggle kernel 1](https://www.kaggle.com/adityabhat24/iris-data-analysis-and-machine-learning-python) and \n",
        "[kaggle kernel 2](https://www.kaggle.com/ash316/ml-from-scratch-with-iris).\n"
      ]
    },
    {
      "cell_type": "markdown",
      "metadata": {
        "id": "sMMNu-Shp30T",
        "colab_type": "text"
      },
      "source": [
        "**Import all the necessary libraries**"
      ]
    },
    {
      "cell_type": "code",
      "metadata": {
        "id": "vnIEjd4_eDvI",
        "colab_type": "code",
        "colab": {}
      },
      "source": [
        "#import all necessary libraries\n",
        "\n",
        "%matplotlib inline\n",
        "\n",
        "import numpy as np\n",
        "import pandas as pd\n",
        "import seaborn as sns\n",
        "import matplotlib.pyplot as plt"
      ],
      "execution_count": 0,
      "outputs": []
    },
    {
      "cell_type": "markdown",
      "metadata": {
        "id": "MEpG-Bffp8hD",
        "colab_type": "text"
      },
      "source": [
        "**Get the dataset**\n",
        "\n",
        "1. Get the data from Google Drive.\n",
        "\n",
        "The 'Iris.csv' file can be downloaded from [here](https://gist.github.com/netj/8836201).\n",
        "\n",
        "> Upload 'Iris.csv' file to the same folder of this notebook to your google drive.\n",
        "\n",
        "2. Get the data from Scikit-learn dataset.\n",
        "\n",
        "The iris dataset is a dataset of three flowers. We need to predict which flowers are these based on the characteristics given. So, there are three classess and four features of these flowers.\n",
        "\n",
        "Iris setosa (*source: wikipedia*)\n",
        "\n",
        "![iris-setosa](https://upload.wikimedia.org/wikipedia/commons/thumb/5/56/Kosaciec_szczecinkowaty_Iris_setosa.jpg/330px-Kosaciec_szczecinkowaty_Iris_setosa.jpg)\n",
        "\n",
        "Iris versicolor (*source:wikipedia*)\n",
        "\n",
        "![iris versicolor](https://upload.wikimedia.org/wikipedia/commons/thumb/4/41/Iris_versicolor_3.jpg/330px-Iris_versicolor_3.jpg)\n",
        "\n",
        "Iris virginica (*source-wikipedia*)\n",
        "\n",
        "![iris virginica](https://upload.wikimedia.org/wikipedia/commons/thumb/9/9f/Iris_virginica.jpg/330px-Iris_virginica.jpg)\n",
        "\n"
      ]
    },
    {
      "cell_type": "code",
      "metadata": {
        "id": "9kq26NO_gZqK",
        "colab_type": "code",
        "outputId": "f0aea7ae-5e3e-46d5-bc24-2f30626546c8",
        "colab": {
          "base_uri": "https://localhost:8080/",
          "height": 54
        }
      },
      "source": [
        "#mounting Google Drive files \n",
        "from google.colab import drive\n",
        "drive.mount('/content/drive/')"
      ],
      "execution_count": 0,
      "outputs": [
        {
          "output_type": "stream",
          "text": [
            "Drive already mounted at /content/drive/; to attempt to forcibly remount, call drive.mount(\"/content/drive/\", force_remount=True).\n"
          ],
          "name": "stdout"
        }
      ]
    },
    {
      "cell_type": "code",
      "metadata": {
        "id": "NGJHbbRfhfeb",
        "colab_type": "code",
        "outputId": "ebaa58f0-3a2a-4825-ab8a-2ab271759f9b",
        "colab": {
          "base_uri": "https://localhost:8080/",
          "height": 50
        }
      },
      "source": [
        "#check whether Iris.csv file is there or not\n",
        "!ls \"/content/drive/My Drive/KCG_KCGI/AIProgramming\""
      ],
      "execution_count": 0,
      "outputs": [
        {
          "output_type": "stream",
          "text": [
            "'GitHub Repo.gform'\t\t   Iris.csv\t   Iris_ML_solution.ipynb\n",
            "'GitHub Repo (Responses).gsheet'   Iris_ML.ipynb   M19W0119.ipynb\n"
          ],
          "name": "stdout"
        }
      ]
    },
    {
      "cell_type": "code",
      "metadata": {
        "id": "osThksjmhPw1",
        "colab_type": "code",
        "outputId": "d418a091-94a1-4967-e287-1c484f611f8d",
        "colab": {
          "base_uri": "https://localhost:8080/",
          "height": 195
        }
      },
      "source": [
        "#load the dataset\n",
        "iris = pd.read_csv(\"../content/drive/My Drive/KCG_KCGI/AIProgramming/Iris.csv\")\n",
        "#show the data\n",
        "iris.head()"
      ],
      "execution_count": 0,
      "outputs": [
        {
          "output_type": "execute_result",
          "data": {
            "text/html": [
              "<div>\n",
              "<style scoped>\n",
              "    .dataframe tbody tr th:only-of-type {\n",
              "        vertical-align: middle;\n",
              "    }\n",
              "\n",
              "    .dataframe tbody tr th {\n",
              "        vertical-align: top;\n",
              "    }\n",
              "\n",
              "    .dataframe thead th {\n",
              "        text-align: right;\n",
              "    }\n",
              "</style>\n",
              "<table border=\"1\" class=\"dataframe\">\n",
              "  <thead>\n",
              "    <tr style=\"text-align: right;\">\n",
              "      <th></th>\n",
              "      <th>Id</th>\n",
              "      <th>SepalLengthCm</th>\n",
              "      <th>SepalWidthCm</th>\n",
              "      <th>PetalLengthCm</th>\n",
              "      <th>PetalWidthCm</th>\n",
              "      <th>Species</th>\n",
              "    </tr>\n",
              "  </thead>\n",
              "  <tbody>\n",
              "    <tr>\n",
              "      <th>0</th>\n",
              "      <td>1</td>\n",
              "      <td>5.1</td>\n",
              "      <td>3.5</td>\n",
              "      <td>1.4</td>\n",
              "      <td>0.2</td>\n",
              "      <td>Iris-setosa</td>\n",
              "    </tr>\n",
              "    <tr>\n",
              "      <th>1</th>\n",
              "      <td>2</td>\n",
              "      <td>4.9</td>\n",
              "      <td>3.0</td>\n",
              "      <td>1.4</td>\n",
              "      <td>0.2</td>\n",
              "      <td>Iris-setosa</td>\n",
              "    </tr>\n",
              "    <tr>\n",
              "      <th>2</th>\n",
              "      <td>3</td>\n",
              "      <td>4.7</td>\n",
              "      <td>3.2</td>\n",
              "      <td>1.3</td>\n",
              "      <td>0.2</td>\n",
              "      <td>Iris-setosa</td>\n",
              "    </tr>\n",
              "    <tr>\n",
              "      <th>3</th>\n",
              "      <td>4</td>\n",
              "      <td>4.6</td>\n",
              "      <td>3.1</td>\n",
              "      <td>1.5</td>\n",
              "      <td>0.2</td>\n",
              "      <td>Iris-setosa</td>\n",
              "    </tr>\n",
              "    <tr>\n",
              "      <th>4</th>\n",
              "      <td>5</td>\n",
              "      <td>5.0</td>\n",
              "      <td>3.6</td>\n",
              "      <td>1.4</td>\n",
              "      <td>0.2</td>\n",
              "      <td>Iris-setosa</td>\n",
              "    </tr>\n",
              "  </tbody>\n",
              "</table>\n",
              "</div>"
            ],
            "text/plain": [
              "   Id  SepalLengthCm  SepalWidthCm  PetalLengthCm  PetalWidthCm      Species\n",
              "0   1            5.1           3.5            1.4           0.2  Iris-setosa\n",
              "1   2            4.9           3.0            1.4           0.2  Iris-setosa\n",
              "2   3            4.7           3.2            1.3           0.2  Iris-setosa\n",
              "3   4            4.6           3.1            1.5           0.2  Iris-setosa\n",
              "4   5            5.0           3.6            1.4           0.2  Iris-setosa"
            ]
          },
          "metadata": {
            "tags": []
          },
          "execution_count": 4
        }
      ]
    },
    {
      "cell_type": "code",
      "metadata": {
        "id": "7nrHsRZWkext",
        "colab_type": "code",
        "outputId": "2141a07f-480b-4614-dc1e-7cf377f74dd4",
        "colab": {
          "base_uri": "https://localhost:8080/",
          "height": 195
        }
      },
      "source": [
        "#You can also use sklearn dataset to load iris dataset\n",
        "from sklearn.datasets import load_iris\n",
        "iris_dataset = load_iris()\n",
        "df = pd.DataFrame(iris_dataset.data, columns= iris_dataset.feature_names)\n",
        "df.head()\n",
        "\n",
        "#but from now on, we are going to use the dataset from Iris.csv as our data"
      ],
      "execution_count": 0,
      "outputs": [
        {
          "output_type": "execute_result",
          "data": {
            "text/html": [
              "<div>\n",
              "<style scoped>\n",
              "    .dataframe tbody tr th:only-of-type {\n",
              "        vertical-align: middle;\n",
              "    }\n",
              "\n",
              "    .dataframe tbody tr th {\n",
              "        vertical-align: top;\n",
              "    }\n",
              "\n",
              "    .dataframe thead th {\n",
              "        text-align: right;\n",
              "    }\n",
              "</style>\n",
              "<table border=\"1\" class=\"dataframe\">\n",
              "  <thead>\n",
              "    <tr style=\"text-align: right;\">\n",
              "      <th></th>\n",
              "      <th>sepal length (cm)</th>\n",
              "      <th>sepal width (cm)</th>\n",
              "      <th>petal length (cm)</th>\n",
              "      <th>petal width (cm)</th>\n",
              "    </tr>\n",
              "  </thead>\n",
              "  <tbody>\n",
              "    <tr>\n",
              "      <th>0</th>\n",
              "      <td>5.1</td>\n",
              "      <td>3.5</td>\n",
              "      <td>1.4</td>\n",
              "      <td>0.2</td>\n",
              "    </tr>\n",
              "    <tr>\n",
              "      <th>1</th>\n",
              "      <td>4.9</td>\n",
              "      <td>3.0</td>\n",
              "      <td>1.4</td>\n",
              "      <td>0.2</td>\n",
              "    </tr>\n",
              "    <tr>\n",
              "      <th>2</th>\n",
              "      <td>4.7</td>\n",
              "      <td>3.2</td>\n",
              "      <td>1.3</td>\n",
              "      <td>0.2</td>\n",
              "    </tr>\n",
              "    <tr>\n",
              "      <th>3</th>\n",
              "      <td>4.6</td>\n",
              "      <td>3.1</td>\n",
              "      <td>1.5</td>\n",
              "      <td>0.2</td>\n",
              "    </tr>\n",
              "    <tr>\n",
              "      <th>4</th>\n",
              "      <td>5.0</td>\n",
              "      <td>3.6</td>\n",
              "      <td>1.4</td>\n",
              "      <td>0.2</td>\n",
              "    </tr>\n",
              "  </tbody>\n",
              "</table>\n",
              "</div>"
            ],
            "text/plain": [
              "   sepal length (cm)  sepal width (cm)  petal length (cm)  petal width (cm)\n",
              "0                5.1               3.5                1.4               0.2\n",
              "1                4.9               3.0                1.4               0.2\n",
              "2                4.7               3.2                1.3               0.2\n",
              "3                4.6               3.1                1.5               0.2\n",
              "4                5.0               3.6                1.4               0.2"
            ]
          },
          "metadata": {
            "tags": []
          },
          "execution_count": 5
        }
      ]
    },
    {
      "cell_type": "markdown",
      "metadata": {
        "id": "tFZPfB-OqVG2",
        "colab_type": "text"
      },
      "source": [
        "**Data Exploration**"
      ]
    },
    {
      "cell_type": "code",
      "metadata": {
        "id": "jT-OvcFXjZRG",
        "colab_type": "code",
        "outputId": "5c809b84-e8af-4d13-b855-3c20b4add99e",
        "colab": {
          "base_uri": "https://localhost:8080/",
          "height": 202
        }
      },
      "source": [
        "#check if there is any inconsistensy in data\n",
        "iris.info()"
      ],
      "execution_count": 0,
      "outputs": [
        {
          "output_type": "stream",
          "text": [
            "<class 'pandas.core.frame.DataFrame'>\n",
            "RangeIndex: 150 entries, 0 to 149\n",
            "Data columns (total 6 columns):\n",
            "Id               150 non-null int64\n",
            "SepalLengthCm    150 non-null float64\n",
            "SepalWidthCm     150 non-null float64\n",
            "PetalLengthCm    150 non-null float64\n",
            "PetalWidthCm     150 non-null float64\n",
            "Species          150 non-null object\n",
            "dtypes: float64(4), int64(1), object(1)\n",
            "memory usage: 7.1+ KB\n"
          ],
          "name": "stdout"
        }
      ]
    },
    {
      "cell_type": "code",
      "metadata": {
        "id": "rNjbvexzjjaU",
        "colab_type": "code",
        "colab": {}
      },
      "source": [
        "#remove the 1st column as it just contain an ID\n",
        "iris.drop('Id', axis=1, inplace=True)"
      ],
      "execution_count": 0,
      "outputs": []
    },
    {
      "cell_type": "code",
      "metadata": {
        "id": "LLPCkenMnTbO",
        "colab_type": "code",
        "outputId": "75e2c604-089c-4425-f74a-c9f2f8bce3b7",
        "colab": {
          "base_uri": "https://localhost:8080/",
          "height": 195
        }
      },
      "source": [
        "iris.head()"
      ],
      "execution_count": 0,
      "outputs": [
        {
          "output_type": "execute_result",
          "data": {
            "text/html": [
              "<div>\n",
              "<style scoped>\n",
              "    .dataframe tbody tr th:only-of-type {\n",
              "        vertical-align: middle;\n",
              "    }\n",
              "\n",
              "    .dataframe tbody tr th {\n",
              "        vertical-align: top;\n",
              "    }\n",
              "\n",
              "    .dataframe thead th {\n",
              "        text-align: right;\n",
              "    }\n",
              "</style>\n",
              "<table border=\"1\" class=\"dataframe\">\n",
              "  <thead>\n",
              "    <tr style=\"text-align: right;\">\n",
              "      <th></th>\n",
              "      <th>SepalLengthCm</th>\n",
              "      <th>SepalWidthCm</th>\n",
              "      <th>PetalLengthCm</th>\n",
              "      <th>PetalWidthCm</th>\n",
              "      <th>Species</th>\n",
              "    </tr>\n",
              "  </thead>\n",
              "  <tbody>\n",
              "    <tr>\n",
              "      <th>0</th>\n",
              "      <td>5.1</td>\n",
              "      <td>3.5</td>\n",
              "      <td>1.4</td>\n",
              "      <td>0.2</td>\n",
              "      <td>Iris-setosa</td>\n",
              "    </tr>\n",
              "    <tr>\n",
              "      <th>1</th>\n",
              "      <td>4.9</td>\n",
              "      <td>3.0</td>\n",
              "      <td>1.4</td>\n",
              "      <td>0.2</td>\n",
              "      <td>Iris-setosa</td>\n",
              "    </tr>\n",
              "    <tr>\n",
              "      <th>2</th>\n",
              "      <td>4.7</td>\n",
              "      <td>3.2</td>\n",
              "      <td>1.3</td>\n",
              "      <td>0.2</td>\n",
              "      <td>Iris-setosa</td>\n",
              "    </tr>\n",
              "    <tr>\n",
              "      <th>3</th>\n",
              "      <td>4.6</td>\n",
              "      <td>3.1</td>\n",
              "      <td>1.5</td>\n",
              "      <td>0.2</td>\n",
              "      <td>Iris-setosa</td>\n",
              "    </tr>\n",
              "    <tr>\n",
              "      <th>4</th>\n",
              "      <td>5.0</td>\n",
              "      <td>3.6</td>\n",
              "      <td>1.4</td>\n",
              "      <td>0.2</td>\n",
              "      <td>Iris-setosa</td>\n",
              "    </tr>\n",
              "  </tbody>\n",
              "</table>\n",
              "</div>"
            ],
            "text/plain": [
              "   SepalLengthCm  SepalWidthCm  PetalLengthCm  PetalWidthCm      Species\n",
              "0            5.1           3.5            1.4           0.2  Iris-setosa\n",
              "1            4.9           3.0            1.4           0.2  Iris-setosa\n",
              "2            4.7           3.2            1.3           0.2  Iris-setosa\n",
              "3            4.6           3.1            1.5           0.2  Iris-setosa\n",
              "4            5.0           3.6            1.4           0.2  Iris-setosa"
            ]
          },
          "metadata": {
            "tags": []
          },
          "execution_count": 8
        }
      ]
    },
    {
      "cell_type": "code",
      "metadata": {
        "id": "LVPOX4Funr-0",
        "colab_type": "code",
        "outputId": "a37a9a7e-d2dc-409d-9e5a-10c611f93a97",
        "colab": {
          "base_uri": "https://localhost:8080/",
          "height": 34
        }
      },
      "source": [
        "#get the shape of the data\n",
        "print(iris.shape)"
      ],
      "execution_count": 0,
      "outputs": [
        {
          "output_type": "stream",
          "text": [
            "(150, 5)\n"
          ],
          "name": "stdout"
        }
      ]
    },
    {
      "cell_type": "code",
      "metadata": {
        "id": "SziT-pLnpZp3",
        "colab_type": "code",
        "outputId": "07e99bb7-20d3-4b4f-9096-e7aa6a98e7d9",
        "colab": {
          "base_uri": "https://localhost:8080/",
          "height": 168
        }
      },
      "source": [
        "#descriptions of the data\n",
        "print(iris.describe())"
      ],
      "execution_count": 0,
      "outputs": [
        {
          "output_type": "stream",
          "text": [
            "       SepalLengthCm  SepalWidthCm  PetalLengthCm  PetalWidthCm\n",
            "count     150.000000    150.000000     150.000000    150.000000\n",
            "mean        5.843333      3.054000       3.758667      1.198667\n",
            "std         0.828066      0.433594       1.764420      0.763161\n",
            "min         4.300000      2.000000       1.000000      0.100000\n",
            "25%         5.100000      2.800000       1.600000      0.300000\n",
            "50%         5.800000      3.000000       4.350000      1.300000\n",
            "75%         6.400000      3.300000       5.100000      1.800000\n",
            "max         7.900000      4.400000       6.900000      2.500000\n"
          ],
          "name": "stdout"
        }
      ]
    },
    {
      "cell_type": "code",
      "metadata": {
        "id": "9y8tw1YQplHI",
        "colab_type": "code",
        "outputId": "bb0cad1d-9cdf-435e-85b7-fb354ac2df7d",
        "colab": {
          "base_uri": "https://localhost:8080/",
          "height": 101
        }
      },
      "source": [
        "#get the class distribution\n",
        "print(iris.groupby('Species').size())"
      ],
      "execution_count": 0,
      "outputs": [
        {
          "output_type": "stream",
          "text": [
            "Species\n",
            "Iris-setosa        50\n",
            "Iris-versicolor    50\n",
            "Iris-virginica     50\n",
            "dtype: int64\n"
          ],
          "name": "stdout"
        }
      ]
    },
    {
      "cell_type": "code",
      "metadata": {
        "id": "2rTIJ-UdqaOB",
        "colab_type": "code",
        "outputId": "d0ae71b7-e2c0-46ca-abef-c682025c562a",
        "colab": {
          "base_uri": "https://localhost:8080/",
          "height": 365
        }
      },
      "source": [
        "#histograms of every category\n",
        "\n",
        "iris.hist(edgecolor='black', linewidth=1.2)"
      ],
      "execution_count": 0,
      "outputs": [
        {
          "output_type": "execute_result",
          "data": {
            "text/plain": [
              "array([[<matplotlib.axes._subplots.AxesSubplot object at 0x7f5c1a3b22b0>,\n",
              "        <matplotlib.axes._subplots.AxesSubplot object at 0x7f5c1a37a2e8>],\n",
              "       [<matplotlib.axes._subplots.AxesSubplot object at 0x7f5c1a3a4198>,\n",
              "        <matplotlib.axes._subplots.AxesSubplot object at 0x7f5c1a347710>]],\n",
              "      dtype=object)"
            ]
          },
          "metadata": {
            "tags": []
          },
          "execution_count": 12
        },
        {
          "output_type": "display_data",
          "data": {
            "image/png": "[encoded data removed]",
            "text/plain": [
              "<Figure size 432x288 with 4 Axes>"
            ]
          },
          "metadata": {
            "tags": []
          }
        }
      ]
    },
    {
      "cell_type": "code",
      "metadata": {
        "id": "4rg1Y17lqw4c",
        "colab_type": "code",
        "outputId": "46645416-6bf2-40ef-8b80-2c1abcf13180",
        "colab": {
          "base_uri": "https://localhost:8080/",
          "height": 743
        }
      },
      "source": [
        "#boxplot on each features (categories) according to the species\n",
        "\n",
        "iris.boxplot(by=\"Species\", figsize=(10, 10))"
      ],
      "execution_count": 0,
      "outputs": [
        {
          "output_type": "execute_result",
          "data": {
            "text/plain": [
              "array([[<matplotlib.axes._subplots.AxesSubplot object at 0x7f5c179edf98>,\n",
              "        <matplotlib.axes._subplots.AxesSubplot object at 0x7f5c179af550>],\n",
              "       [<matplotlib.axes._subplots.AxesSubplot object at 0x7f5c179d4828>,\n",
              "        <matplotlib.axes._subplots.AxesSubplot object at 0x7f5c1797eb00>]],\n",
              "      dtype=object)"
            ]
          },
          "metadata": {
            "tags": []
          },
          "execution_count": 13
        },
        {
          "output_type": "display_data",
          "data": {
            "image/png": "[encoded data removed]",
            "text/plain": [
              "<Figure size 720x720 with 4 Axes>"
            ]
          },
          "metadata": {
            "tags": []
          }
        }
      ]
    },
    {
      "cell_type": "markdown",
      "metadata": {
        "id": "CAFQMLtzrF7W",
        "colab_type": "text"
      },
      "source": [
        "**Characteristics of each species**\n",
        "\n",
        "\n",
        "\n",
        "1.   Iris-setosa - smallest petal length and width, sepal length and highest sepal width\n",
        "2.   Iris-versicolor - medium in everything\n",
        "3.   Iris-virginica - largest petal length and width, sepal length and almost the same sepal width with iris-setosa\n",
        "\n"
      ]
    },
    {
      "cell_type": "code",
      "metadata": {
        "id": "XFHitUAhrnfx",
        "colab_type": "code",
        "outputId": "d7a33ed6-165f-4654-99ce-7a2d5099e06b",
        "colab": {
          "base_uri": "https://localhost:8080/",
          "height": 404
        }
      },
      "source": [
        "#Now, let's try to make a scatter plot for this data in sepal category\n",
        "fig = iris[iris.Species=='Iris-setosa'].plot(kind='scatter',x='SepalLengthCm',y='SepalWidthCm',color='orange', label='Setosa')\n",
        "iris[iris.Species=='Iris-versicolor'].plot(kind='scatter',x='SepalLengthCm',y='SepalWidthCm',color='blue', label='versicolor',ax=fig)\n",
        "iris[iris.Species=='Iris-virginica'].plot(kind='scatter',x='SepalLengthCm',y='SepalWidthCm',color='green', label='virginica', ax=fig)\n",
        "fig.set_xlabel(\"Sepal Length\")\n",
        "fig.set_ylabel(\"Sepal Width\")\n",
        "fig.set_title(\"Sepal Length VS Width\")\n",
        "fig=plt.gcf()\n",
        "fig.set_size_inches(10,6)\n",
        "plt.show()"
      ],
      "execution_count": 0,
      "outputs": [
        {
          "output_type": "display_data",
          "data": {
            "image/png": "[encoded data removed]",
            "text/plain": [
              "<Figure size 720x432 with 1 Axes>"
            ]
          },
          "metadata": {
            "tags": []
          }
        }
      ]
    },
    {
      "cell_type": "code",
      "metadata": {
        "id": "V01igTqWyzq9",
        "colab_type": "code",
        "colab": {}
      },
      "source": [
        ""
      ],
      "execution_count": 0,
      "outputs": []
    },
    {
      "cell_type": "code",
      "metadata": {
        "id": "OfwmBVITr5H6",
        "colab_type": "code",
        "outputId": "8f93a1f1-d2fc-40ec-81e8-4dd32965859f",
        "colab": {
          "base_uri": "https://localhost:8080/",
          "height": 404
        }
      },
      "source": [
        "#Now, let's try to make a scatter plot for this data in petal category\n",
        "fig = iris[iris.Species=='Iris-setosa'].plot(kind='scatter',x='PetalLengthCm',y='PetalWidthCm',color='orange', label='Setosa')\n",
        "iris[iris.Species=='Iris-versicolor'].plot(kind='scatter',x='PetalLengthCm',y='PetalWidthCm',color='blue', label='Versicolor',ax=fig)\n",
        "iris[iris.Species=='Iris-virginica'].plot(kind='scatter',x='PetalLengthCm',y='PetalWidthCm',color='green', label='Virginica', ax=fig)\n",
        "fig.set_xlabel(\"Petal Length\")\n",
        "fig.set_ylabel(\"Petal Width\")\n",
        "fig.set_title(\"Petal Length VS Width\")\n",
        "fig=plt.gcf()\n",
        "fig.set_size_inches(10,6)\n",
        "plt.show()"
      ],
      "execution_count": 0,
      "outputs": [
        {
          "output_type": "display_data",
          "data": {
            "image/png": "[encoded data removed]",
            "text/plain": [
              "<Figure size 720x432 with 1 Axes>"
            ]
          },
          "metadata": {
            "tags": []
          }
        }
      ]
    },
    {
      "cell_type": "markdown",
      "metadata": {
        "id": "0RQM5JrNvyr5",
        "colab_type": "text"
      },
      "source": [
        "**Plotting decision boundary for the data**\n",
        "\n",
        "By using seaborn library and by referring to this [kaggel kernel](https://www.kaggle.com/vasanthreddy/data-visualisation-of-iris-dataset), plot a regression line or boundary line for \n",
        "\n",
        "1. Sepal length and sepal width\n",
        "2. Petal length and petal width\n",
        "\n",
        "for the three species of iris flower."
      ]
    },
    {
      "cell_type": "code",
      "metadata": {
        "id": "MZa08nUYWEES",
        "colab_type": "code",
        "outputId": "46d1fcd8-14d0-48d9-c2a6-e227b17c39be",
        "colab": {
          "base_uri": "https://localhost:8080/",
          "height": 738
        }
      },
      "source": [
        "import seaborn as sns\n",
        "\n",
        "sns.lmplot(x='SepalLengthCm',y='SepalWidthCm',data=iris)\n",
        "sns.lmplot(x='SepalLengthCm',y='SepalWidthCm',data=iris,hue='Species')\n",
        "sns.residplot(x='SepalLengthCm',y='SepalWidthCm',data=iris)"
      ],
      "execution_count": 0,
      "outputs": [
        {
          "output_type": "execute_result",
          "data": {
            "text/plain": [
              "<matplotlib.axes._subplots.AxesSubplot at 0x7f5c175c6358>"
            ]
          },
          "metadata": {
            "tags": []
          },
          "execution_count": 16
        },
        {
          "output_type": "display_data",
          "data": {
            "image/png": "[encoded data removed]",
            "text/plain": [
              "<Figure size 360x360 with 1 Axes>"
            ]
          },
          "metadata": {
            "tags": []
          }
        },
        {
          "output_type": "display_data",
          "data": {
            "image/png": "[encoded data removed]",
            "text/plain": [
              "<Figure size 463.5x360 with 1 Axes>"
            ]
          },
          "metadata": {
            "tags": []
          }
        }
      ]
    },
    {
      "cell_type": "code",
      "metadata": {
        "id": "HgpjJMZ5ghq0",
        "colab_type": "code",
        "outputId": "81bb5e1d-00b2-43f2-8685-f42647174e70",
        "colab": {
          "base_uri": "https://localhost:8080/",
          "height": 738
        }
      },
      "source": [
        "sns.lmplot(x='PetalLengthCm',y='PetalWidthCm',data=iris)\n",
        "sns.lmplot(x='PetalLengthCm',y='PetalWidthCm',data=iris,hue='Species')\n",
        "sns.residplot(x='PetalLengthCm',y='PetalWidthCm',data=iris)"
      ],
      "execution_count": 0,
      "outputs": [
        {
          "output_type": "execute_result",
          "data": {
            "text/plain": [
              "<matplotlib.axes._subplots.AxesSubplot at 0x7f5c1629edd8>"
            ]
          },
          "metadata": {
            "tags": []
          },
          "execution_count": 17
        },
        {
          "output_type": "display_data",
          "data": {
            "image/png": "[encoded data removed]",
            "text/plain": [
              "<Figure size 360x360 with 1 Axes>"
            ]
          },
          "metadata": {
            "tags": []
          }
        },
        {
          "output_type": "display_data",
          "data": {
            "image/png": "[encoded data removed]",
            "text/plain": [
              "<Figure size 463.5x360 with 1 Axes>"
            ]
          },
          "metadata": {
            "tags": []
          }
        }
      ]
    },
    {
      "cell_type": "markdown",
      "metadata": {
        "id": "ID0r0O_CtsVr",
        "colab_type": "text"
      },
      "source": [
        "**Split the data into training and test set**"
      ]
    },
    {
      "cell_type": "code",
      "metadata": {
        "id": "UOaNqXo6wQVm",
        "colab_type": "code",
        "outputId": "73e01eaf-b528-4b83-819d-6021551dfaf3",
        "colab": {
          "base_uri": "https://localhost:8080/",
          "height": 269
        }
      },
      "source": [
        "#check the correlation between features to choose the correct features for prediction\n",
        "\n",
        "plt.figure(figsize=(7,4)) \n",
        "sns.heatmap(iris.corr(),annot=True,cmap='cubehelix_r') #draws  heatmap with input as the correlation matrix calculted by(iris.corr())\n",
        "plt.show()"
      ],
      "execution_count": 0,
      "outputs": [
        {
          "output_type": "display_data",
          "data": {
            "image/png": "[encoded data removed]",
            "text/plain": [
              "<Figure size 504x288 with 2 Axes>"
            ]
          },
          "metadata": {
            "tags": []
          }
        }
      ]
    },
    {
      "cell_type": "code",
      "metadata": {
        "id": "4gNS8O-ofaXk",
        "colab_type": "code",
        "outputId": "6b0ca264-2cf7-471a-e838-8daf0a8fb8c9",
        "colab": {
          "base_uri": "https://localhost:8080/",
          "height": 50
        }
      },
      "source": [
        "#split the data into train and test set\n",
        "\n",
        "from sklearn.model_selection import train_test_split as split\n",
        "train, test = split(iris, test_size = 0.25)\n",
        "#you can adjust the test size that you want to split for this dataset\n",
        "print (train.shape)\n",
        "print (test.shape)"
      ],
      "execution_count": 0,
      "outputs": [
        {
          "output_type": "stream",
          "text": [
            "(112, 5)\n",
            "(38, 5)\n"
          ],
          "name": "stdout"
        }
      ]
    },
    {
      "cell_type": "code",
      "metadata": {
        "id": "iU4YEPwAffiS",
        "colab_type": "code",
        "colab": {}
      },
      "source": [
        "#get the features for training data\n",
        "X_train = train[['SepalLengthCm', 'SepalWidthCm', 'PetalLengthCm', 'PetalWidthCm']]\n",
        "#output(label) of training data\n",
        "y_train = train.Species\n",
        "#get the testing data features and output(label)\n",
        "X_test = test[['SepalLengthCm', 'SepalWidthCm', 'PetalLengthCm', 'PetalWidthCm']]\n",
        "y_test = test.Species"
      ],
      "execution_count": 0,
      "outputs": []
    },
    {
      "cell_type": "code",
      "metadata": {
        "id": "3p2bnVnNgG0j",
        "colab_type": "code",
        "outputId": "cd725c0e-a9ba-476e-adef-f90befbda7c5",
        "colab": {
          "base_uri": "https://localhost:8080/",
          "height": 195
        }
      },
      "source": [
        "#check the train and test dataset\n",
        "X_train.head()"
      ],
      "execution_count": 0,
      "outputs": [
        {
          "output_type": "execute_result",
          "data": {
            "text/html": [
              "<div>\n",
              "<style scoped>\n",
              "    .dataframe tbody tr th:only-of-type {\n",
              "        vertical-align: middle;\n",
              "    }\n",
              "\n",
              "    .dataframe tbody tr th {\n",
              "        vertical-align: top;\n",
              "    }\n",
              "\n",
              "    .dataframe thead th {\n",
              "        text-align: right;\n",
              "    }\n",
              "</style>\n",
              "<table border=\"1\" class=\"dataframe\">\n",
              "  <thead>\n",
              "    <tr style=\"text-align: right;\">\n",
              "      <th></th>\n",
              "      <th>SepalLengthCm</th>\n",
              "      <th>SepalWidthCm</th>\n",
              "      <th>PetalLengthCm</th>\n",
              "      <th>PetalWidthCm</th>\n",
              "    </tr>\n",
              "  </thead>\n",
              "  <tbody>\n",
              "    <tr>\n",
              "      <th>148</th>\n",
              "      <td>6.2</td>\n",
              "      <td>3.4</td>\n",
              "      <td>5.4</td>\n",
              "      <td>2.3</td>\n",
              "    </tr>\n",
              "    <tr>\n",
              "      <th>67</th>\n",
              "      <td>5.8</td>\n",
              "      <td>2.7</td>\n",
              "      <td>4.1</td>\n",
              "      <td>1.0</td>\n",
              "    </tr>\n",
              "    <tr>\n",
              "      <th>83</th>\n",
              "      <td>6.0</td>\n",
              "      <td>2.7</td>\n",
              "      <td>5.1</td>\n",
              "      <td>1.6</td>\n",
              "    </tr>\n",
              "    <tr>\n",
              "      <th>39</th>\n",
              "      <td>5.1</td>\n",
              "      <td>3.4</td>\n",
              "      <td>1.5</td>\n",
              "      <td>0.2</td>\n",
              "    </tr>\n",
              "    <tr>\n",
              "      <th>57</th>\n",
              "      <td>4.9</td>\n",
              "      <td>2.4</td>\n",
              "      <td>3.3</td>\n",
              "      <td>1.0</td>\n",
              "    </tr>\n",
              "  </tbody>\n",
              "</table>\n",
              "</div>"
            ],
            "text/plain": [
              "     SepalLengthCm  SepalWidthCm  PetalLengthCm  PetalWidthCm\n",
              "148            6.2           3.4            5.4           2.3\n",
              "67             5.8           2.7            4.1           1.0\n",
              "83             6.0           2.7            5.1           1.6\n",
              "39             5.1           3.4            1.5           0.2\n",
              "57             4.9           2.4            3.3           1.0"
            ]
          },
          "metadata": {
            "tags": []
          },
          "execution_count": 21
        }
      ]
    },
    {
      "cell_type": "code",
      "metadata": {
        "id": "KCUh96pOgWag",
        "colab_type": "code",
        "outputId": "d523cd70-cfae-47b6-d2a1-8cdd92357832",
        "colab": {
          "base_uri": "https://localhost:8080/",
          "height": 195
        }
      },
      "source": [
        "X_test.head()"
      ],
      "execution_count": 0,
      "outputs": [
        {
          "output_type": "execute_result",
          "data": {
            "text/html": [
              "<div>\n",
              "<style scoped>\n",
              "    .dataframe tbody tr th:only-of-type {\n",
              "        vertical-align: middle;\n",
              "    }\n",
              "\n",
              "    .dataframe tbody tr th {\n",
              "        vertical-align: top;\n",
              "    }\n",
              "\n",
              "    .dataframe thead th {\n",
              "        text-align: right;\n",
              "    }\n",
              "</style>\n",
              "<table border=\"1\" class=\"dataframe\">\n",
              "  <thead>\n",
              "    <tr style=\"text-align: right;\">\n",
              "      <th></th>\n",
              "      <th>SepalLengthCm</th>\n",
              "      <th>SepalWidthCm</th>\n",
              "      <th>PetalLengthCm</th>\n",
              "      <th>PetalWidthCm</th>\n",
              "    </tr>\n",
              "  </thead>\n",
              "  <tbody>\n",
              "    <tr>\n",
              "      <th>4</th>\n",
              "      <td>5.0</td>\n",
              "      <td>3.6</td>\n",
              "      <td>1.4</td>\n",
              "      <td>0.2</td>\n",
              "    </tr>\n",
              "    <tr>\n",
              "      <th>101</th>\n",
              "      <td>5.8</td>\n",
              "      <td>2.7</td>\n",
              "      <td>5.1</td>\n",
              "      <td>1.9</td>\n",
              "    </tr>\n",
              "    <tr>\n",
              "      <th>11</th>\n",
              "      <td>4.8</td>\n",
              "      <td>3.4</td>\n",
              "      <td>1.6</td>\n",
              "      <td>0.2</td>\n",
              "    </tr>\n",
              "    <tr>\n",
              "      <th>105</th>\n",
              "      <td>7.6</td>\n",
              "      <td>3.0</td>\n",
              "      <td>6.6</td>\n",
              "      <td>2.1</td>\n",
              "    </tr>\n",
              "    <tr>\n",
              "      <th>118</th>\n",
              "      <td>7.7</td>\n",
              "      <td>2.6</td>\n",
              "      <td>6.9</td>\n",
              "      <td>2.3</td>\n",
              "    </tr>\n",
              "  </tbody>\n",
              "</table>\n",
              "</div>"
            ],
            "text/plain": [
              "     SepalLengthCm  SepalWidthCm  PetalLengthCm  PetalWidthCm\n",
              "4              5.0           3.6            1.4           0.2\n",
              "101            5.8           2.7            5.1           1.9\n",
              "11             4.8           3.4            1.6           0.2\n",
              "105            7.6           3.0            6.6           2.1\n",
              "118            7.7           2.6            6.9           2.3"
            ]
          },
          "metadata": {
            "tags": []
          },
          "execution_count": 22
        }
      ]
    },
    {
      "cell_type": "code",
      "metadata": {
        "id": "AXTLjcKsgbkB",
        "colab_type": "code",
        "outputId": "c5a10286-b53f-4ac4-cedf-e7d1330c9e72",
        "colab": {
          "base_uri": "https://localhost:8080/",
          "height": 118
        }
      },
      "source": [
        "y_train.head()"
      ],
      "execution_count": 0,
      "outputs": [
        {
          "output_type": "execute_result",
          "data": {
            "text/plain": [
              "148     Iris-virginica\n",
              "67     Iris-versicolor\n",
              "83     Iris-versicolor\n",
              "39         Iris-setosa\n",
              "57     Iris-versicolor\n",
              "Name: Species, dtype: object"
            ]
          },
          "metadata": {
            "tags": []
          },
          "execution_count": 23
        }
      ]
    },
    {
      "cell_type": "code",
      "metadata": {
        "id": "UwuBfW28geJ0",
        "colab_type": "code",
        "outputId": "6b924566-a850-483f-8b48-43e5fc110d8d",
        "colab": {
          "base_uri": "https://localhost:8080/",
          "height": 118
        }
      },
      "source": [
        "y_test.head()"
      ],
      "execution_count": 0,
      "outputs": [
        {
          "output_type": "execute_result",
          "data": {
            "text/plain": [
              "4         Iris-setosa\n",
              "101    Iris-virginica\n",
              "11        Iris-setosa\n",
              "105    Iris-virginica\n",
              "118    Iris-virginica\n",
              "Name: Species, dtype: object"
            ]
          },
          "metadata": {
            "tags": []
          },
          "execution_count": 24
        }
      ]
    },
    {
      "cell_type": "markdown",
      "metadata": {
        "id": "RTZPB7UisTmf",
        "colab_type": "text"
      },
      "source": [
        "**Building classification algorithms by using Scikit-Learn library**"
      ]
    },
    {
      "cell_type": "code",
      "metadata": {
        "id": "O5QvW256safv",
        "colab_type": "code",
        "colab": {}
      },
      "source": [
        "#import all the necessary libraries for classification algorithms\n",
        "\n",
        "#K-nearest neighbor classifier algorithm\n",
        "from sklearn.neighbors import KNeighborsClassifier \n",
        "\n",
        "#Support vector machine algorithm\n",
        "from sklearn import svm\n",
        "\n",
        "#Decision Tree Classifier algorithm\n",
        "from sklearn.tree import DecisionTreeClassifier\n",
        "\n",
        "#metrics to check model accuracy\n",
        "from sklearn import metrics"
      ],
      "execution_count": 0,
      "outputs": []
    },
    {
      "cell_type": "markdown",
      "metadata": {
        "id": "iALP9j81gqTx",
        "colab_type": "text"
      },
      "source": [
        "**Training and Predict the data by using K Neighbors Classifier**"
      ]
    },
    {
      "cell_type": "code",
      "metadata": {
        "id": "bxNPC31SgoWJ",
        "colab_type": "code",
        "outputId": "a0d16b9a-914e-4d49-bc33-d6e4c0366f90",
        "colab": {
          "base_uri": "https://localhost:8080/",
          "height": 34
        }
      },
      "source": [
        "knn = KNeighborsClassifier(n_neighbors=3)\n",
        "#examines 3 neighbors to put new data into a class\n",
        "\n",
        "#fit the model to the training features and labels\n",
        "knn.fit(X_train, y_train)\n",
        "\n",
        "#predict the trained model by to the validation data features\n",
        "prediction = knn.predict(X_test)\n",
        "\n",
        "#get the accuracy of the trained model by mapping the prediction data to their labels\n",
        "metrics.accuracy_score(y_test, prediction)"
      ],
      "execution_count": 0,
      "outputs": [
        {
          "output_type": "execute_result",
          "data": {
            "text/plain": [
              "0.9736842105263158"
            ]
          },
          "metadata": {
            "tags": []
          },
          "execution_count": 26
        }
      ]
    },
    {
      "cell_type": "code",
      "metadata": {
        "id": "ujAEdFKLXM4i",
        "colab_type": "code",
        "outputId": "f504323b-7dba-42a8-99cc-1101828b7484",
        "colab": {
          "base_uri": "https://localhost:8080/",
          "height": 655
        }
      },
      "source": [
        "#check the prediction either it is correct or not\n",
        "for true, pred in zip(y_test, prediction):\n",
        "  if pred == true:\n",
        "    print(\"{}\\t -> {}\".format(true, pred))\n",
        "  else:\n",
        "    print(\"\\033[1m{}\\t -> {}\\033[0m\".format(true, pred))"
      ],
      "execution_count": 0,
      "outputs": [
        {
          "output_type": "stream",
          "text": [
            "Iris-setosa\t -> Iris-setosa\n",
            "Iris-virginica\t -> Iris-virginica\n",
            "Iris-setosa\t -> Iris-setosa\n",
            "Iris-virginica\t -> Iris-virginica\n",
            "Iris-virginica\t -> Iris-virginica\n",
            "Iris-virginica\t -> Iris-virginica\n",
            "Iris-virginica\t -> Iris-virginica\n",
            "Iris-virginica\t -> Iris-virginica\n",
            "Iris-versicolor\t -> Iris-versicolor\n",
            "Iris-versicolor\t -> Iris-versicolor\n",
            "Iris-virginica\t -> Iris-virginica\n",
            "Iris-setosa\t -> Iris-setosa\n",
            "Iris-versicolor\t -> Iris-versicolor\n",
            "Iris-versicolor\t -> Iris-versicolor\n",
            "Iris-versicolor\t -> Iris-versicolor\n",
            "\u001b[1mIris-versicolor\t -> Iris-virginica\u001b[0m\n",
            "Iris-virginica\t -> Iris-virginica\n",
            "Iris-virginica\t -> Iris-virginica\n",
            "Iris-virginica\t -> Iris-virginica\n",
            "Iris-virginica\t -> Iris-virginica\n",
            "Iris-versicolor\t -> Iris-versicolor\n",
            "Iris-versicolor\t -> Iris-versicolor\n",
            "Iris-setosa\t -> Iris-setosa\n",
            "Iris-versicolor\t -> Iris-versicolor\n",
            "Iris-setosa\t -> Iris-setosa\n",
            "Iris-setosa\t -> Iris-setosa\n",
            "Iris-virginica\t -> Iris-virginica\n",
            "Iris-virginica\t -> Iris-virginica\n",
            "Iris-versicolor\t -> Iris-versicolor\n",
            "Iris-versicolor\t -> Iris-versicolor\n",
            "Iris-setosa\t -> Iris-setosa\n",
            "Iris-versicolor\t -> Iris-versicolor\n",
            "Iris-setosa\t -> Iris-setosa\n",
            "Iris-virginica\t -> Iris-virginica\n",
            "Iris-virginica\t -> Iris-virginica\n",
            "Iris-versicolor\t -> Iris-versicolor\n",
            "Iris-versicolor\t -> Iris-versicolor\n",
            "Iris-versicolor\t -> Iris-versicolor\n"
          ],
          "name": "stdout"
        }
      ]
    },
    {
      "cell_type": "code",
      "metadata": {
        "id": "C5bCXfjWjlrp",
        "colab_type": "code",
        "outputId": "8edccdee-6983-4f98-fd97-b1123b392fdc",
        "colab": {
          "base_uri": "https://localhost:8080/",
          "height": 454
        }
      },
      "source": [
        "#checking the accuracy of various k values for KNN\n",
        "a_index=list(range(1,11))\n",
        "a=pd.Series()\n",
        "x=[1,2,3,4,5,6,7,8,9,10]\n",
        "for i in list(range(1,11)):\n",
        "    model=KNeighborsClassifier(n_neighbors=i) \n",
        "    model.fit(X_train,y_train)\n",
        "    prediction=model.predict(X_test)\n",
        "    a=a.append(pd.Series(metrics.accuracy_score(y_test, prediction)))\n",
        "plt.plot(a_index, a)\n",
        "plt.xticks(x)"
      ],
      "execution_count": 0,
      "outputs": [
        {
          "output_type": "execute_result",
          "data": {
            "text/plain": [
              "([<matplotlib.axis.XTick at 0x7f5c12a7b1d0>,\n",
              "  <matplotlib.axis.XTick at 0x7f5c1363dd30>,\n",
              "  <matplotlib.axis.XTick at 0x7f5c1363a668>,\n",
              "  <matplotlib.axis.XTick at 0x7f5c12a93400>,\n",
              "  <matplotlib.axis.XTick at 0x7f5c12a938d0>,\n",
              "  <matplotlib.axis.XTick at 0x7f5c12a93da0>,\n",
              "  <matplotlib.axis.XTick at 0x7f5c12a9b2e8>,\n",
              "  <matplotlib.axis.XTick at 0x7f5c12a9b7f0>,\n",
              "  <matplotlib.axis.XTick at 0x7f5c12a9bcf8>,\n",
              "  <matplotlib.axis.XTick at 0x7f5c12a9b8d0>],\n",
              " <a list of 10 Text xticklabel objects>)"
            ]
          },
          "metadata": {
            "tags": []
          },
          "execution_count": 28
        },
        {
          "output_type": "display_data",
          "data": {
            "image/png": "[encoded data removed]",
            "text/plain": [
              "<Figure size 432x288 with 1 Axes>"
            ]
          },
          "metadata": {
            "tags": []
          }
        }
      ]
    },
    {
      "cell_type": "markdown",
      "metadata": {
        "id": "SdyIRdqEkU9v",
        "colab_type": "text"
      },
      "source": [
        "**Train and predict the data by using Decision Tree Classifier**"
      ]
    },
    {
      "cell_type": "code",
      "metadata": {
        "id": "k6HRHTiWkS1z",
        "colab_type": "code",
        "outputId": "92dbc9c9-4b74-4582-d7e2-2bdfff20f67c",
        "colab": {
          "base_uri": "https://localhost:8080/",
          "height": 34
        }
      },
      "source": [
        "DT=DecisionTreeClassifier()\n",
        "DT.fit(X_train,y_train)\n",
        "prediction=DT.predict(X_test)\n",
        "print('The accuracy of the Decision Tree is',metrics.accuracy_score(y_test, prediction))"
      ],
      "execution_count": 0,
      "outputs": [
        {
          "output_type": "stream",
          "text": [
            "The accuracy of the Decision Tree is 0.9736842105263158\n"
          ],
          "name": "stdout"
        }
      ]
    },
    {
      "cell_type": "code",
      "metadata": {
        "id": "9PRN-MzeXOab",
        "colab_type": "code",
        "outputId": "ebb24c3a-bfef-417c-dece-b204905115cc",
        "colab": {
          "base_uri": "https://localhost:8080/",
          "height": 655
        }
      },
      "source": [
        "for true, pred in zip(y_test, prediction):\n",
        "  if pred == true:\n",
        "    print(\"{}\\t -> {}\".format(true, pred))\n",
        "  else:\n",
        "    print(\"\\033[1m{}\\t -> {}\\033[0m\".format(true, pred))"
      ],
      "execution_count": 0,
      "outputs": [
        {
          "output_type": "stream",
          "text": [
            "Iris-setosa\t -> Iris-setosa\n",
            "Iris-virginica\t -> Iris-virginica\n",
            "Iris-setosa\t -> Iris-setosa\n",
            "Iris-virginica\t -> Iris-virginica\n",
            "Iris-virginica\t -> Iris-virginica\n",
            "Iris-virginica\t -> Iris-virginica\n",
            "Iris-virginica\t -> Iris-virginica\n",
            "Iris-virginica\t -> Iris-virginica\n",
            "Iris-versicolor\t -> Iris-versicolor\n",
            "Iris-versicolor\t -> Iris-versicolor\n",
            "Iris-virginica\t -> Iris-virginica\n",
            "Iris-setosa\t -> Iris-setosa\n",
            "Iris-versicolor\t -> Iris-versicolor\n",
            "Iris-versicolor\t -> Iris-versicolor\n",
            "Iris-versicolor\t -> Iris-versicolor\n",
            "Iris-versicolor\t -> Iris-versicolor\n",
            "Iris-virginica\t -> Iris-virginica\n",
            "\u001b[1mIris-virginica\t -> Iris-versicolor\u001b[0m\n",
            "Iris-virginica\t -> Iris-virginica\n",
            "Iris-virginica\t -> Iris-virginica\n",
            "Iris-versicolor\t -> Iris-versicolor\n",
            "Iris-versicolor\t -> Iris-versicolor\n",
            "Iris-setosa\t -> Iris-setosa\n",
            "Iris-versicolor\t -> Iris-versicolor\n",
            "Iris-setosa\t -> Iris-setosa\n",
            "Iris-setosa\t -> Iris-setosa\n",
            "Iris-virginica\t -> Iris-virginica\n",
            "Iris-virginica\t -> Iris-virginica\n",
            "Iris-versicolor\t -> Iris-versicolor\n",
            "Iris-versicolor\t -> Iris-versicolor\n",
            "Iris-setosa\t -> Iris-setosa\n",
            "Iris-versicolor\t -> Iris-versicolor\n",
            "Iris-setosa\t -> Iris-setosa\n",
            "Iris-virginica\t -> Iris-virginica\n",
            "Iris-virginica\t -> Iris-virginica\n",
            "Iris-versicolor\t -> Iris-versicolor\n",
            "Iris-versicolor\t -> Iris-versicolor\n",
            "Iris-versicolor\t -> Iris-versicolor\n"
          ],
          "name": "stdout"
        }
      ]
    },
    {
      "cell_type": "markdown",
      "metadata": {
        "id": "Gp4LGmDJlHDt",
        "colab_type": "text"
      },
      "source": [
        "**Train and predict the data by using SVM**"
      ]
    },
    {
      "cell_type": "code",
      "metadata": {
        "id": "ByRjn-jRlEvX",
        "colab_type": "code",
        "outputId": "df5706fb-3cbf-4636-8bb7-98803353413c",
        "colab": {
          "base_uri": "https://localhost:8080/",
          "height": 87
        }
      },
      "source": [
        "SVM = svm.SVC() #select the algorithm\n",
        "SVM.fit(X_train,y_train) # we train the algorithm with the training data and the training output\n",
        "prediction=SVM.predict(X_test) #now we pass the testing data to the trained algorithm\n",
        "print('The accuracy of the SVM is:',metrics.accuracy_score(y_test, prediction))#now we check the accuracy of the algorithm. \n",
        "#we pass the predicted output by the model and the actual output"
      ],
      "execution_count": 0,
      "outputs": [
        {
          "output_type": "stream",
          "text": [
            "The accuracy of the SVM is: 1.0\n"
          ],
          "name": "stdout"
        },
        {
          "output_type": "stream",
          "text": [
            "/usr/local/lib/python3.6/dist-packages/sklearn/svm/base.py:193: FutureWarning: The default value of gamma will change from 'auto' to 'scale' in version 0.22 to account better for unscaled features. Set gamma explicitly to 'auto' or 'scale' to avoid this warning.\n",
            "  \"avoid this warning.\", FutureWarning)\n"
          ],
          "name": "stderr"
        }
      ]
    },
    {
      "cell_type": "code",
      "metadata": {
        "id": "at3KEnoMWUJp",
        "colab_type": "code",
        "outputId": "985fbaf3-a6c1-49c1-c602-da5b03a667e7",
        "colab": {
          "base_uri": "https://localhost:8080/",
          "height": 655
        }
      },
      "source": [
        "for true, pred in zip(y_test, prediction):\n",
        "  if pred == true:\n",
        "    print(\"{}\\t -> {}\".format(true, pred))\n",
        "  else:\n",
        "    print(\"\\033[1m{}\\t -> {}\\033[0m\".format(true, pred))"
      ],
      "execution_count": 0,
      "outputs": [
        {
          "output_type": "stream",
          "text": [
            "Iris-setosa\t -> Iris-setosa\n",
            "Iris-virginica\t -> Iris-virginica\n",
            "Iris-setosa\t -> Iris-setosa\n",
            "Iris-virginica\t -> Iris-virginica\n",
            "Iris-virginica\t -> Iris-virginica\n",
            "Iris-virginica\t -> Iris-virginica\n",
            "Iris-virginica\t -> Iris-virginica\n",
            "Iris-virginica\t -> Iris-virginica\n",
            "Iris-versicolor\t -> Iris-versicolor\n",
            "Iris-versicolor\t -> Iris-versicolor\n",
            "Iris-virginica\t -> Iris-virginica\n",
            "Iris-setosa\t -> Iris-setosa\n",
            "Iris-versicolor\t -> Iris-versicolor\n",
            "Iris-versicolor\t -> Iris-versicolor\n",
            "Iris-versicolor\t -> Iris-versicolor\n",
            "Iris-versicolor\t -> Iris-versicolor\n",
            "Iris-virginica\t -> Iris-virginica\n",
            "Iris-virginica\t -> Iris-virginica\n",
            "Iris-virginica\t -> Iris-virginica\n",
            "Iris-virginica\t -> Iris-virginica\n",
            "Iris-versicolor\t -> Iris-versicolor\n",
            "Iris-versicolor\t -> Iris-versicolor\n",
            "Iris-setosa\t -> Iris-setosa\n",
            "Iris-versicolor\t -> Iris-versicolor\n",
            "Iris-setosa\t -> Iris-setosa\n",
            "Iris-setosa\t -> Iris-setosa\n",
            "Iris-virginica\t -> Iris-virginica\n",
            "Iris-virginica\t -> Iris-virginica\n",
            "Iris-versicolor\t -> Iris-versicolor\n",
            "Iris-versicolor\t -> Iris-versicolor\n",
            "Iris-setosa\t -> Iris-setosa\n",
            "Iris-versicolor\t -> Iris-versicolor\n",
            "Iris-setosa\t -> Iris-setosa\n",
            "Iris-virginica\t -> Iris-virginica\n",
            "Iris-virginica\t -> Iris-virginica\n",
            "Iris-versicolor\t -> Iris-versicolor\n",
            "Iris-versicolor\t -> Iris-versicolor\n",
            "Iris-versicolor\t -> Iris-versicolor\n"
          ],
          "name": "stdout"
        }
      ]
    },
    {
      "cell_type": "markdown",
      "metadata": {
        "id": "dKzkAi0yGZnN",
        "colab_type": "text"
      },
      "source": [
        "**Confusion matrix for predicted iris dataset**"
      ]
    },
    {
      "cell_type": "code",
      "metadata": {
        "id": "-rYwfOhOFHpD",
        "colab_type": "code",
        "outputId": "ea1d28fa-fcb5-4f3f-b3a5-0e8ba142b6ac",
        "colab": {
          "base_uri": "https://localhost:8080/",
          "height": 310
        }
      },
      "source": [
        "#Confusion matrix after SVM\n",
        "\n",
        "from sklearn.metrics import accuracy_score, confusion_matrix, precision_recall_fscore_support\n",
        "\n",
        "cm = confusion_matrix(y_test, prediction)\n",
        "\n",
        "cm_df = pd.DataFrame(cm,\n",
        "                     index = ['setosa','versicolor','virginica'], \n",
        "                     columns = ['setosa','versicolor','virginica'])\n",
        "\n",
        "plt.figure(figsize=(5.5,4))\n",
        "sns.heatmap(cm_df, annot=True)\n",
        "plt.title('SVM Linear Kernel \\nAccuracy:{0:.3f}'.format(accuracy_score(y_test, prediction)))\n",
        "plt.ylabel('True label')\n",
        "plt.xlabel('Predicted label')\n",
        "plt.show()"
      ],
      "execution_count": 0,
      "outputs": [
        {
          "output_type": "display_data",
          "data": {
            "image/png": "[encoded data removed]",
            "text/plain": [
              "<Figure size 396x288 with 2 Axes>"
            ]
          },
          "metadata": {
            "tags": []
          }
        }
      ]
    }
  ]
}