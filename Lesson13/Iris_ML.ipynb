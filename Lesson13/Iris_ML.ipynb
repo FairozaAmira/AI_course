{
  "nbformat": 4,
  "nbformat_minor": 0,
  "metadata": {
    "colab": {
      "name": "Iris_ML.ipynb",
      "version": "0.3.2",
      "provenance": [],
      "collapsed_sections": []
    },
    "kernelspec": {
      "name": "python3",
      "display_name": "Python 3"
    },
    "accelerator": "GPU"
  },
  "cells": [
    {
      "cell_type": "markdown",
      "metadata": {
        "id": "aA5d5X0sdpym",
        "colab_type": "text"
      },
      "source": [
        "**Tutorial for the IRIS dataset classification by using Machine Learning**\n",
        "\n",
        "This tutorial is referred from [github repo](https://github.com/amueller/introduction_to_ml_with_python/blob/master/01-introduction.ipynb), [kaggle kernel 1](https://www.kaggle.com/adityabhat24/iris-data-analysis-and-machine-learning-python) and \n",
        "[kaggle kernel 2](https://www.kaggle.com/ash316/ml-from-scratch-with-iris).\n"
      ]
    },
    {
      "cell_type": "markdown",
      "metadata": {
        "id": "sMMNu-Shp30T",
        "colab_type": "text"
      },
      "source": [
        "**Import all the necessary libraries**"
      ]
    },
    {
      "cell_type": "code",
      "metadata": {
        "id": "vnIEjd4_eDvI",
        "colab_type": "code",
        "colab": {}
      },
      "source": [
        "#import all necessary libraries\n",
        "\n",
        "%matplotlib inline\n",
        "\n",
        "import numpy as np\n",
        "import pandas as pd\n",
        "import seaborn as sns\n",
        "import matplotlib.pyplot as plt"
      ],
      "execution_count": 0,
      "outputs": []
    },
    {
      "cell_type": "markdown",
      "metadata": {
        "id": "MEpG-Bffp8hD",
        "colab_type": "text"
      },
      "source": [
        "**Get the dataset**\n",
        "\n",
        "1. Get the data from Google Drive.\n",
        "\n",
        "The 'Iris.csv' file can be downloaded from [here](https://gist.github.com/netj/8836201).\n",
        "\n",
        "> Upload 'Iris.csv' file to the same folder of this notebook to your google drive.\n",
        "\n",
        "2. Get the data from Scikit-learn dataset.\n",
        "\n",
        "The iris dataset is a dataset of three flowers. We need to predict which flowers are these based on the characteristics given. So, there are three classess and four features of these flowers.\n",
        "\n",
        "Iris setosa (*source: wikipedia*)\n",
        "\n",
        "![iris-setosa](https://upload.wikimedia.org/wikipedia/commons/thumb/5/56/Kosaciec_szczecinkowaty_Iris_setosa.jpg/330px-Kosaciec_szczecinkowaty_Iris_setosa.jpg)\n",
        "\n",
        "Iris versicolor (*source:wikipedia*)\n",
        "\n",
        "![iris versicolor](https://upload.wikimedia.org/wikipedia/commons/thumb/4/41/Iris_versicolor_3.jpg/330px-Iris_versicolor_3.jpg)\n",
        "\n",
        "Iris virginica (*source-wikipedia*)\n",
        "\n",
        "![iris virginica](https://upload.wikimedia.org/wikipedia/commons/thumb/9/9f/Iris_virginica.jpg/330px-Iris_virginica.jpg)\n",
        "\n"
      ]
    },
    {
      "cell_type": "code",
      "metadata": {
        "id": "9kq26NO_gZqK",
        "colab_type": "code",
        "colab": {}
      },
      "source": [
        "#TODO\n",
        "\n",
        "#mounting Google Drive files \n"
      ],
      "execution_count": 0,
      "outputs": []
    },
    {
      "cell_type": "code",
      "metadata": {
        "id": "NGJHbbRfhfeb",
        "colab_type": "code",
        "outputId": "5da73022-a33c-4839-d143-985c776568b7",
        "colab": {
          "base_uri": "https://localhost:8080/",
          "height": 34
        }
      },
      "source": [
        "#TODO\n",
        "\n",
        "#check whether Iris.csv file is there or not\n",
        "!ls \" \""
      ],
      "execution_count": 0,
      "outputs": [
        {
          "output_type": "stream",
          "text": [
            "ls: cannot access ' ': No such file or directory\n"
          ],
          "name": "stdout"
        }
      ]
    },
    {
      "cell_type": "code",
      "metadata": {
        "id": "osThksjmhPw1",
        "colab_type": "code",
        "outputId": "98125c8a-e9d4-43dc-f7e9-16d724189be7",
        "colab": {
          "base_uri": "https://localhost:8080/",
          "height": 128
        }
      },
      "source": [
        "#TODO\n",
        "\n",
        "#load the dataset by using pd.read_csv()\n",
        "iris =\n",
        "#show the data\n",
        "iris.head()"
      ],
      "execution_count": 0,
      "outputs": [
        {
          "output_type": "error",
          "ename": "SyntaxError",
          "evalue": "ignored",
          "traceback": [
            "\u001b[0;36m  File \u001b[0;32m\"<ipython-input-3-fe0eb5ffd699>\"\u001b[0;36m, line \u001b[0;32m1\u001b[0m\n\u001b[0;31m    iris =\u001b[0m\n\u001b[0m          ^\u001b[0m\n\u001b[0;31mSyntaxError\u001b[0m\u001b[0;31m:\u001b[0m invalid syntax\n"
          ]
        }
      ]
    },
    {
      "cell_type": "code",
      "metadata": {
        "id": "7nrHsRZWkext",
        "colab_type": "code",
        "colab": {}
      },
      "source": [
        "#TODO\n",
        "\n",
        "#You can also use sklearn dataset to load iris dataset\n",
        "from sklearn.datasets import load_iris\n",
        "\n",
        "#load the data\n",
        "\n",
        "\n",
        "#use pd.DataFrame() to display the data by using pandas\n",
        "\n",
        "df = \n",
        "\n",
        "#show the data\n",
        "df.head()\n",
        "\n",
        "#but from now on, we are going to use the dataset from Iris.csv as our data"
      ],
      "execution_count": 0,
      "outputs": []
    },
    {
      "cell_type": "markdown",
      "metadata": {
        "id": "tFZPfB-OqVG2",
        "colab_type": "text"
      },
      "source": [
        "**Data Exploration**"
      ]
    },
    {
      "cell_type": "code",
      "metadata": {
        "id": "jT-OvcFXjZRG",
        "colab_type": "code",
        "colab": {}
      },
      "source": [
        "#check if there is any inconsistensy in data\n",
        "iris.info()"
      ],
      "execution_count": 0,
      "outputs": []
    },
    {
      "cell_type": "code",
      "metadata": {
        "id": "rNjbvexzjjaU",
        "colab_type": "code",
        "colab": {}
      },
      "source": [
        "#TODO\n",
        "\n",
        "#use .drop() to remove the 1st column as it just contain an ID\n"
      ],
      "execution_count": 0,
      "outputs": []
    },
    {
      "cell_type": "code",
      "metadata": {
        "id": "LLPCkenMnTbO",
        "colab_type": "code",
        "colab": {}
      },
      "source": [
        "#TODO\n",
        "\n",
        "#show the data\n"
      ],
      "execution_count": 0,
      "outputs": []
    },
    {
      "cell_type": "code",
      "metadata": {
        "id": "LVPOX4Funr-0",
        "colab_type": "code",
        "colab": {}
      },
      "source": [
        "#TODO\n",
        "\n",
        "#use .shape get the shape of the data\n"
      ],
      "execution_count": 0,
      "outputs": []
    },
    {
      "cell_type": "code",
      "metadata": {
        "id": "SziT-pLnpZp3",
        "colab_type": "code",
        "colab": {}
      },
      "source": [
        "#TODO\n",
        "\n",
        "#use  .describe() to get the descriptions of data\n"
      ],
      "execution_count": 0,
      "outputs": []
    },
    {
      "cell_type": "code",
      "metadata": {
        "id": "9y8tw1YQplHI",
        "colab_type": "code",
        "colab": {}
      },
      "source": [
        "#TODO\n",
        "\n",
        "#use  .groupby() to get the class distribution\n"
      ],
      "execution_count": 0,
      "outputs": []
    },
    {
      "cell_type": "code",
      "metadata": {
        "id": "2rTIJ-UdqaOB",
        "colab_type": "code",
        "colab": {}
      },
      "source": [
        "#TODO\n",
        "\n",
        "#use .hist() to create histograms of every category\n",
        "\n"
      ],
      "execution_count": 0,
      "outputs": []
    },
    {
      "cell_type": "code",
      "metadata": {
        "id": "4rg1Y17lqw4c",
        "colab_type": "code",
        "colab": {}
      },
      "source": [
        "#TODO\n",
        "\n",
        "#use .boxplot() to create a boxplot on each features (categories) according to the species\n",
        "\n"
      ],
      "execution_count": 0,
      "outputs": []
    },
    {
      "cell_type": "markdown",
      "metadata": {
        "id": "CAFQMLtzrF7W",
        "colab_type": "text"
      },
      "source": [
        "**Characteristics of each species**\n",
        "\n",
        "\n",
        "\n",
        "1.   Iris-setosa -\n",
        "\n",
        "\n",
        "2.   Iris-versicolor - \n",
        "\n",
        "\n",
        "3.   Iris-virginica - \n",
        "\n"
      ]
    },
    {
      "cell_type": "code",
      "metadata": {
        "id": "XFHitUAhrnfx",
        "colab_type": "code",
        "colab": {}
      },
      "source": [
        "#TODO\n",
        "\n",
        "#use plt.gcf() for scatter plot\n",
        "\n",
        "#Now, let's try to make a scatter plot for this data in sepal category\n"
      ],
      "execution_count": 0,
      "outputs": []
    },
    {
      "cell_type": "code",
      "metadata": {
        "id": "OfwmBVITr5H6",
        "colab_type": "code",
        "colab": {}
      },
      "source": [
        "#TODO\n",
        "#Now, let's try to make a scatter plot for this data in petal category\n"
      ],
      "execution_count": 0,
      "outputs": []
    },
    {
      "cell_type": "markdown",
      "metadata": {
        "id": "o7KMo4xovcmS",
        "colab_type": "text"
      },
      "source": [
        "**Plotting decision boundary for the data**\n",
        "\n",
        "By using seaborn library and by referring to this [kaggel kernel](https://www.kaggle.com/vasanthreddy/data-visualisation-of-iris-dataset), plot a regression line or boundary line for \n",
        "\n",
        "1. Sepal length and sepal width\n",
        "2. Petal length and petal width\n",
        "\n",
        "for the three species of iris flower."
      ]
    },
    {
      "cell_type": "code",
      "metadata": {
        "id": "Wwbzgr8ZvYkM",
        "colab_type": "code",
        "colab": {}
      },
      "source": [
        "#TODO\n",
        "#sepal length and sepal width\n",
        "\n",
        "import seaborn as sns\n"
      ],
      "execution_count": 0,
      "outputs": []
    },
    {
      "cell_type": "code",
      "metadata": {
        "id": "lpPm-Ooah771",
        "colab_type": "code",
        "colab": {}
      },
      "source": [
        "#TODO\n",
        "#petal length and petal width"
      ],
      "execution_count": 0,
      "outputs": []
    },
    {
      "cell_type": "markdown",
      "metadata": {
        "id": "ID0r0O_CtsVr",
        "colab_type": "text"
      },
      "source": [
        "**Split the data into training and test set**"
      ]
    },
    {
      "cell_type": "code",
      "metadata": {
        "id": "UOaNqXo6wQVm",
        "colab_type": "code",
        "colab": {}
      },
      "source": [
        "#TODO\n",
        "#check the correlation between features to choose the correct features for prediction by using .corr()\n",
        "\n"
      ],
      "execution_count": 0,
      "outputs": []
    },
    {
      "cell_type": "code",
      "metadata": {
        "id": "4gNS8O-ofaXk",
        "colab_type": "code",
        "colab": {}
      },
      "source": [
        "#TODO\n",
        "\n",
        "#split the data into train and test set\n",
        "from sklearn.model_selection import train_test_split as split\n",
        "train, test = split()\n"
      ],
      "execution_count": 0,
      "outputs": []
    },
    {
      "cell_type": "code",
      "metadata": {
        "id": "iU4YEPwAffiS",
        "colab_type": "code",
        "colab": {}
      },
      "source": [
        "#TODO\n",
        "\n",
        "#get the features for training data\n",
        "X_train = \n",
        "#output(label) of training data\n",
        "y_train = \n",
        "#get the testing data features and output(label)\n",
        "X_test =\n",
        "y_test ="
      ],
      "execution_count": 0,
      "outputs": []
    },
    {
      "cell_type": "code",
      "metadata": {
        "id": "3p2bnVnNgG0j",
        "colab_type": "code",
        "colab": {}
      },
      "source": [
        "#check the train and test dataset\n",
        "X_train.head()"
      ],
      "execution_count": 0,
      "outputs": []
    },
    {
      "cell_type": "code",
      "metadata": {
        "id": "KCUh96pOgWag",
        "colab_type": "code",
        "colab": {}
      },
      "source": [
        "X_test.head()"
      ],
      "execution_count": 0,
      "outputs": []
    },
    {
      "cell_type": "code",
      "metadata": {
        "id": "AXTLjcKsgbkB",
        "colab_type": "code",
        "colab": {}
      },
      "source": [
        "y_train.head()"
      ],
      "execution_count": 0,
      "outputs": []
    },
    {
      "cell_type": "code",
      "metadata": {
        "id": "UwuBfW28geJ0",
        "colab_type": "code",
        "colab": {}
      },
      "source": [
        "y_test.head()"
      ],
      "execution_count": 0,
      "outputs": []
    },
    {
      "cell_type": "markdown",
      "metadata": {
        "id": "RTZPB7UisTmf",
        "colab_type": "text"
      },
      "source": [
        "**Building classification algorithms by using Scikit-Learn library**"
      ]
    },
    {
      "cell_type": "code",
      "metadata": {
        "id": "O5QvW256safv",
        "colab_type": "code",
        "colab": {}
      },
      "source": [
        "#import all the necessary libraries for classification algorithms\n",
        "\n",
        "#K-nearest neighbor classifier algorithm\n",
        "from sklearn.neighbors import KNeighborsClassifier \n",
        "\n",
        "#Support vector machine algorithm\n",
        "from sklearn import svm\n",
        "\n",
        "#Decision Tree Classifier algorithm\n",
        "from sklearn.tree import DecisionTreeClassifier\n",
        "\n",
        "#metrics to check model accuracy\n",
        "from sklearn import metrics"
      ],
      "execution_count": 0,
      "outputs": []
    },
    {
      "cell_type": "markdown",
      "metadata": {
        "id": "iALP9j81gqTx",
        "colab_type": "text"
      },
      "source": [
        "**Training and Predict the data by using K Neighbors Classifier**"
      ]
    },
    {
      "cell_type": "code",
      "metadata": {
        "id": "bxNPC31SgoWJ",
        "colab_type": "code",
        "colab": {}
      },
      "source": [
        "#TODO\n",
        "\n",
        "knn = \n",
        "#examines 3 neighbors to put new data into a class\n",
        "\n",
        "#fit the model to the training features and labels\n",
        "\n",
        "\n",
        "#predict the trained model by to the validation data features\n",
        "\n",
        "\n",
        "#get the accuracy of the trained model by mapping the prediction data to their labels\n"
      ],
      "execution_count": 0,
      "outputs": []
    },
    {
      "cell_type": "code",
      "metadata": {
        "id": "ujAEdFKLXM4i",
        "colab_type": "code",
        "colab": {}
      },
      "source": [
        "#check the prediction either it is correct or not\n",
        "for true, pred in zip(y_test, prediction):\n",
        "  if pred == true:\n",
        "    print(\"{}\\t -> {}\".format(true, pred))\n",
        "  else:\n",
        "    print(\"\\033[1m{}\\t -> {}\\033[0m\".format(true, pred))"
      ],
      "execution_count": 0,
      "outputs": []
    },
    {
      "cell_type": "code",
      "metadata": {
        "id": "C5bCXfjWjlrp",
        "colab_type": "code",
        "colab": {}
      },
      "source": [
        "#TODO\n",
        "\n",
        "#checking the accuracy of various k values for KNN\n"
      ],
      "execution_count": 0,
      "outputs": []
    },
    {
      "cell_type": "markdown",
      "metadata": {
        "id": "SdyIRdqEkU9v",
        "colab_type": "text"
      },
      "source": [
        "**Train and predict the data by using Decision Tree Classifier**"
      ]
    },
    {
      "cell_type": "code",
      "metadata": {
        "id": "k6HRHTiWkS1z",
        "colab_type": "code",
        "colab": {}
      },
      "source": [
        "#TODO\n",
        "\n",
        "DT="
      ],
      "execution_count": 0,
      "outputs": []
    },
    {
      "cell_type": "code",
      "metadata": {
        "id": "9PRN-MzeXOab",
        "colab_type": "code",
        "colab": {}
      },
      "source": [
        "for true, pred in zip(y_test, prediction):\n",
        "  if pred == true:\n",
        "    print(\"{}\\t -> {}\".format(true, pred))\n",
        "  else:\n",
        "    print(\"\\033[1m{}\\t -> {}\\033[0m\".format(true, pred))"
      ],
      "execution_count": 0,
      "outputs": []
    },
    {
      "cell_type": "markdown",
      "metadata": {
        "id": "Gp4LGmDJlHDt",
        "colab_type": "text"
      },
      "source": [
        "**Train and predict the data by using SVM**"
      ]
    },
    {
      "cell_type": "code",
      "metadata": {
        "id": "ByRjn-jRlEvX",
        "colab_type": "code",
        "colab": {}
      },
      "source": [
        "#TODO\n",
        "\n",
        "SVM = "
      ],
      "execution_count": 0,
      "outputs": []
    },
    {
      "cell_type": "code",
      "metadata": {
        "id": "at3KEnoMWUJp",
        "colab_type": "code",
        "colab": {}
      },
      "source": [
        "for true, pred in zip(y_test, prediction):\n",
        "  if pred == true:\n",
        "    print(\"{}\\t -> {}\".format(true, pred))\n",
        "  else:\n",
        "    print(\"\\033[1m{}\\t -> {}\\033[0m\".format(true, pred))"
      ],
      "execution_count": 0,
      "outputs": []
    },
    {
      "cell_type": "markdown",
      "metadata": {
        "id": "ligzdLqTG43I",
        "colab_type": "text"
      },
      "source": [
        "**Confusion matrix for predicted iris dataset**"
      ]
    },
    {
      "cell_type": "code",
      "metadata": {
        "id": "6u9SOfnzG5zc",
        "colab_type": "code",
        "colab": {}
      },
      "source": [
        "#TODO\n",
        "#create confusion matrix based on SVM prediction results above\n",
        "\n",
        "from sklearn.metrics import accuracy_score, confusion_matrix, precision_recall_fscore_support"
      ],
      "execution_count": 0,
      "outputs": []
    }
  ]
}