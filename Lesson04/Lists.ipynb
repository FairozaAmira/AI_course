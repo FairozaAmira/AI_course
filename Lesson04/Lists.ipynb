{
  "nbformat": 4,
  "nbformat_minor": 0,
  "metadata": {
    "kernelspec": {
      "display_name": "Python 3",
      "language": "python",
      "name": "python3"
    },
    "language_info": {
      "codemirror_mode": {
        "name": "ipython",
        "version": 3
      },
      "file_extension": ".py",
      "mimetype": "text/x-python",
      "name": "python",
      "nbconvert_exporter": "python",
      "pygments_lexer": "ipython3",
      "version": "3.7.3"
    },
    "colab": {
      "name": "Lists.ipynb",
      "provenance": [],
      "collapsed_sections": [],
      "include_colab_link": true
    }
  },
  "cells": [
    {
      "cell_type": "markdown",
      "metadata": {
        "id": "view-in-github",
        "colab_type": "text"
      },
      "source": [
        "<a href=\"https://colab.research.google.com/github/FairozaAmira/AI_course/blob/master/Lesson04/Lists.ipynb\" target=\"_parent\"><img src=\"https://colab.research.google.com/assets/colab-badge.svg\" alt=\"Open In Colab\"/></a>"
      ]
    },
    {
      "cell_type": "markdown",
      "metadata": {
        "id": "KYu_A27ljIHH",
        "colab_type": "text"
      },
      "source": [
        "# Lists"
      ]
    },
    {
      "cell_type": "markdown",
      "metadata": {
        "id": "ZGJAE8PZjIHN",
        "colab_type": "text"
      },
      "source": [
        "1. Create a list of numbers with variable L.\n",
        "The numbers are 4, 6, 8, 9."
      ]
    },
    {
      "cell_type": "code",
      "metadata": {
        "id": "b_f_xznkjIHP",
        "colab_type": "code",
        "colab": {}
      },
      "source": [
        "L = [4,6,8,9]"
      ],
      "execution_count": 0,
      "outputs": []
    },
    {
      "cell_type": "markdown",
      "metadata": {
        "id": "T0Ip6SZ3jIHW",
        "colab_type": "text"
      },
      "source": [
        "2. Find the length of the list."
      ]
    },
    {
      "cell_type": "code",
      "metadata": {
        "id": "yWMivS2CjIHX",
        "colab_type": "code",
        "outputId": "ba3e0809-eaf1-4ff5-ba88-3a1a7d329aaf",
        "colab": {
          "base_uri": "https://localhost:8080/",
          "height": 33
        }
      },
      "source": [
        "print(len(L))"
      ],
      "execution_count": 0,
      "outputs": [
        {
          "output_type": "stream",
          "text": [
            "4\n"
          ],
          "name": "stdout"
        }
      ]
    },
    {
      "cell_type": "markdown",
      "metadata": {
        "id": "0AskwlMojIHe",
        "colab_type": "text"
      },
      "source": [
        "3. Add number 11 in the list."
      ]
    },
    {
      "cell_type": "code",
      "metadata": {
        "id": "GyiI3nvtjIHf",
        "colab_type": "code",
        "outputId": "8ec671c7-e254-48c7-d573-6393444e1722",
        "colab": {
          "base_uri": "https://localhost:8080/",
          "height": 33
        }
      },
      "source": [
        "L.append(11)\n",
        "L"
      ],
      "execution_count": 0,
      "outputs": [
        {
          "output_type": "execute_result",
          "data": {
            "text/plain": [
              "[4, 6, 8, 9, 11]"
            ]
          },
          "metadata": {
            "tags": []
          },
          "execution_count": 3
        }
      ]
    },
    {
      "cell_type": "markdown",
      "metadata": {
        "id": "hq7Z_PgmjIHl",
        "colab_type": "text"
      },
      "source": [
        "4. Concatenate list with the list of [13, 17 and 20] to the list."
      ]
    },
    {
      "cell_type": "code",
      "metadata": {
        "id": "y95vMT_8jIHm",
        "colab_type": "code",
        "colab": {}
      },
      "source": [
        "L += [13, 17, 20]"
      ],
      "execution_count": 0,
      "outputs": []
    },
    {
      "cell_type": "markdown",
      "metadata": {
        "id": "OPwguJGVjIHr",
        "colab_type": "text"
      },
      "source": [
        "5. Sort the list in ascending order"
      ]
    },
    {
      "cell_type": "code",
      "metadata": {
        "id": "ZRXqpHIvjIHt",
        "colab_type": "code",
        "outputId": "007a3892-d8de-4db5-8f94-567f27324740",
        "colab": {
          "base_uri": "https://localhost:8080/",
          "height": 33
        }
      },
      "source": [
        "L.sort\n",
        "L"
      ],
      "execution_count": 0,
      "outputs": [
        {
          "output_type": "execute_result",
          "data": {
            "text/plain": [
              "[4, 6, 8, 9, 11, 13, 17, 20]"
            ]
          },
          "metadata": {
            "tags": []
          },
          "execution_count": 5
        }
      ]
    },
    {
      "cell_type": "markdown",
      "metadata": {
        "id": "T-HwzYCgjIH0",
        "colab_type": "text"
      },
      "source": [
        "6. Does list can contain any values other than integers?"
      ]
    },
    {
      "cell_type": "code",
      "metadata": {
        "id": "hEvuOdqNjIH1",
        "colab_type": "code",
        "outputId": "20c2f040-8425-424b-e298-32a1c89b0542",
        "colab": {
          "base_uri": "https://localhost:8080/",
          "height": 33
        }
      },
      "source": [
        "L = [1, \"two\", 3.24, [0, 3,5]]\n",
        "L"
      ],
      "execution_count": 0,
      "outputs": [
        {
          "output_type": "execute_result",
          "data": {
            "text/plain": [
              "[1, 'two', 3.24, [0, 3, 5]]"
            ]
          },
          "metadata": {
            "tags": []
          },
          "execution_count": 6
        }
      ]
    },
    {
      "cell_type": "code",
      "metadata": {
        "id": "eUKXlNNyjIH_",
        "colab_type": "code",
        "colab": {}
      },
      "source": [
        ""
      ],
      "execution_count": 0,
      "outputs": []
    }
  ]
}