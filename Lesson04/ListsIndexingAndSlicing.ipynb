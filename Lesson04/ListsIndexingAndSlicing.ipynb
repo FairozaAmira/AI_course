{
  "nbformat": 4,
  "nbformat_minor": 0,
  "metadata": {
    "kernelspec": {
      "display_name": "Python 3",
      "language": "python",
      "name": "python3"
    },
    "language_info": {
      "codemirror_mode": {
        "name": "ipython",
        "version": 3
      },
      "file_extension": ".py",
      "mimetype": "text/x-python",
      "name": "python",
      "nbconvert_exporter": "python",
      "pygments_lexer": "ipython3",
      "version": "3.7.3"
    },
    "colab": {
      "name": "ListsIndexingAndSlicing.ipynb",
      "provenance": [],
      "include_colab_link": true
    }
  },
  "cells": [
    {
      "cell_type": "markdown",
      "metadata": {
        "id": "view-in-github",
        "colab_type": "text"
      },
      "source": [
        "<a href=\"https://colab.research.google.com/github/FairozaAmira/AI_course/blob/master/Lesson04/ListsIndexingAndSlicing.ipynb\" target=\"_parent\"><img src=\"https://colab.research.google.com/assets/colab-badge.svg\" alt=\"Open In Colab\"/></a>"
      ]
    },
    {
      "cell_type": "markdown",
      "metadata": {
        "id": "a6opYb85lgfW",
        "colab_type": "text"
      },
      "source": [
        "# Solution for Lists Indexing and Slicing Exercises"
      ]
    },
    {
      "cell_type": "markdown",
      "metadata": {
        "id": "bhh4EZk7lgfc",
        "colab_type": "text"
      },
      "source": [
        "1. Given a list of numbers, L = [4,6,8,9,11], find the first element of L."
      ]
    },
    {
      "cell_type": "code",
      "metadata": {
        "id": "6T6q6zQPlgfe",
        "colab_type": "code",
        "outputId": "6adeb0e4-593c-4bda-d173-16883090872a",
        "colab": {
          "base_uri": "https://localhost:8080/",
          "height": 33
        }
      },
      "source": [
        "L = [4,6,8,9,11]\n",
        "L"
      ],
      "execution_count": 1,
      "outputs": [
        {
          "output_type": "execute_result",
          "data": {
            "text/plain": [
              "[4, 6, 8, 9, 11]"
            ]
          },
          "metadata": {
            "tags": []
          },
          "execution_count": 1
        }
      ]
    },
    {
      "cell_type": "code",
      "metadata": {
        "id": "RD2_nmPQlgfu",
        "colab_type": "code",
        "outputId": "7fbaf775-4d0c-42cb-c22b-c42c92f4ae39",
        "colab": {
          "base_uri": "https://localhost:8080/",
          "height": 33
        }
      },
      "source": [
        "L[0]"
      ],
      "execution_count": 2,
      "outputs": [
        {
          "output_type": "execute_result",
          "data": {
            "text/plain": [
              "4"
            ]
          },
          "metadata": {
            "tags": []
          },
          "execution_count": 2
        }
      ]
    },
    {
      "cell_type": "markdown",
      "metadata": {
        "id": "zrJSEgqHlgf1",
        "colab_type": "text"
      },
      "source": [
        "2. Find the forth element of L."
      ]
    },
    {
      "cell_type": "code",
      "metadata": {
        "id": "UnLqtrR5lgf3",
        "colab_type": "code",
        "outputId": "d08677e2-be98-451b-d49c-94523a3a09d3",
        "colab": {
          "base_uri": "https://localhost:8080/",
          "height": 33
        }
      },
      "source": [
        "L[3]"
      ],
      "execution_count": 3,
      "outputs": [
        {
          "output_type": "execute_result",
          "data": {
            "text/plain": [
              "9"
            ]
          },
          "metadata": {
            "tags": []
          },
          "execution_count": 3
        }
      ]
    },
    {
      "cell_type": "markdown",
      "metadata": {
        "id": "FxLhJaLnlgf9",
        "colab_type": "text"
      },
      "source": [
        "3. Find the last element of L"
      ]
    },
    {
      "cell_type": "code",
      "metadata": {
        "id": "NZSkhMswlgf_",
        "colab_type": "code",
        "outputId": "e36a7665-1529-4de4-b6aa-a0b0d2da7910",
        "colab": {
          "base_uri": "https://localhost:8080/",
          "height": 33
        }
      },
      "source": [
        "L[-1]"
      ],
      "execution_count": 4,
      "outputs": [
        {
          "output_type": "execute_result",
          "data": {
            "text/plain": [
              "11"
            ]
          },
          "metadata": {
            "tags": []
          },
          "execution_count": 4
        }
      ]
    },
    {
      "cell_type": "code",
      "metadata": {
        "id": "ulK_V4EklggH",
        "colab_type": "code",
        "outputId": "2e8da58c-1cf5-4074-9800-bb1148569606",
        "colab": {
          "base_uri": "https://localhost:8080/",
          "height": 33
        }
      },
      "source": [
        "L[4]"
      ],
      "execution_count": 5,
      "outputs": [
        {
          "output_type": "execute_result",
          "data": {
            "text/plain": [
              "11"
            ]
          },
          "metadata": {
            "tags": []
          },
          "execution_count": 5
        }
      ]
    },
    {
      "cell_type": "markdown",
      "metadata": {
        "id": "COvTz2e1lggO",
        "colab_type": "text"
      },
      "source": [
        "4. Find the first three elements of L."
      ]
    },
    {
      "cell_type": "code",
      "metadata": {
        "id": "HJhRnZsilggR",
        "colab_type": "code",
        "outputId": "b32ca07b-d145-450c-9641-91575352174c",
        "colab": {
          "base_uri": "https://localhost:8080/",
          "height": 33
        }
      },
      "source": [
        "L[:3]"
      ],
      "execution_count": 6,
      "outputs": [
        {
          "output_type": "execute_result",
          "data": {
            "text/plain": [
              "[4, 6, 8]"
            ]
          },
          "metadata": {
            "tags": []
          },
          "execution_count": 6
        }
      ]
    },
    {
      "cell_type": "markdown",
      "metadata": {
        "id": "Ys_Na-zBlggZ",
        "colab_type": "text"
      },
      "source": [
        "5. Find the last two elements of L."
      ]
    },
    {
      "cell_type": "code",
      "metadata": {
        "id": "dDJMch7Vlggb",
        "colab_type": "code",
        "outputId": "e18eb43f-9399-41a8-f766-3d68e81e7462",
        "colab": {
          "base_uri": "https://localhost:8080/",
          "height": 33
        }
      },
      "source": [
        "L[-2:]"
      ],
      "execution_count": 7,
      "outputs": [
        {
          "output_type": "execute_result",
          "data": {
            "text/plain": [
              "[9, 11]"
            ]
          },
          "metadata": {
            "tags": []
          },
          "execution_count": 7
        }
      ]
    },
    {
      "cell_type": "markdown",
      "metadata": {
        "id": "Lnl04tODlggh",
        "colab_type": "text"
      },
      "source": [
        "6. skip one element of the list in ascending order."
      ]
    },
    {
      "cell_type": "code",
      "metadata": {
        "id": "ScWqeqgMlggj",
        "colab_type": "code",
        "outputId": "b4dc9028-bdc5-45fa-85a7-cbf4575d5dba",
        "colab": {
          "base_uri": "https://localhost:8080/",
          "height": 33
        }
      },
      "source": [
        "L[::2] #equivalent to L[0:len(L):2] L in range of O to Length of L with every addition of 2"
      ],
      "execution_count": 8,
      "outputs": [
        {
          "output_type": "execute_result",
          "data": {
            "text/plain": [
              "[4, 8, 11]"
            ]
          },
          "metadata": {
            "tags": []
          },
          "execution_count": 8
        }
      ]
    },
    {
      "cell_type": "code",
      "metadata": {
        "id": "bGejxHnFlggq",
        "colab_type": "code",
        "outputId": "34cebc62-0109-4075-d4ca-73933432a9b6",
        "colab": {
          "base_uri": "https://localhost:8080/",
          "height": 33
        }
      },
      "source": [
        "#every second element\n",
        "\n",
        "L[0:len(L):2]"
      ],
      "execution_count": 9,
      "outputs": [
        {
          "output_type": "execute_result",
          "data": {
            "text/plain": [
              "[4, 8, 11]"
            ]
          },
          "metadata": {
            "tags": []
          },
          "execution_count": 9
        }
      ]
    },
    {
      "cell_type": "markdown",
      "metadata": {
        "id": "kQ8BKz2Alggw",
        "colab_type": "text"
      },
      "source": [
        "7. skip one element of the list in descending order"
      ]
    },
    {
      "cell_type": "code",
      "metadata": {
        "scrolled": true,
        "id": "mHq05WVllggz",
        "colab_type": "code",
        "outputId": "c52e9b9c-6190-4faa-e9c2-c9a35b3d8a1c",
        "colab": {
          "base_uri": "https://localhost:8080/",
          "height": 33
        }
      },
      "source": [
        "L[-4:-1:2]"
      ],
      "execution_count": 10,
      "outputs": [
        {
          "output_type": "execute_result",
          "data": {
            "text/plain": [
              "[6, 9]"
            ]
          },
          "metadata": {
            "tags": []
          },
          "execution_count": 10
        }
      ]
    },
    {
      "cell_type": "code",
      "metadata": {
        "id": "3aUkuQZ0lgg8",
        "colab_type": "code",
        "outputId": "29220f71-e37e-4c11-8e69-0467e463666d",
        "colab": {
          "base_uri": "https://localhost:8080/",
          "height": 33
        }
      },
      "source": [
        "L[-1]"
      ],
      "execution_count": 11,
      "outputs": [
        {
          "output_type": "execute_result",
          "data": {
            "text/plain": [
              "11"
            ]
          },
          "metadata": {
            "tags": []
          },
          "execution_count": 11
        }
      ]
    },
    {
      "cell_type": "code",
      "metadata": {
        "id": "ZP_cNdvhlghC",
        "colab_type": "code",
        "outputId": "c587819c-c67f-420b-fe9f-18f87673327e",
        "colab": {
          "base_uri": "https://localhost:8080/",
          "height": 33
        }
      },
      "source": [
        "L[::-2]"
      ],
      "execution_count": 12,
      "outputs": [
        {
          "output_type": "execute_result",
          "data": {
            "text/plain": [
              "[11, 8, 4]"
            ]
          },
          "metadata": {
            "tags": []
          },
          "execution_count": 12
        }
      ]
    },
    {
      "cell_type": "markdown",
      "metadata": {
        "id": "hRORMPqQlghI",
        "colab_type": "text"
      },
      "source": [
        "8. Replace L[0] to 50. "
      ]
    },
    {
      "cell_type": "code",
      "metadata": {
        "id": "lL9c21sylghL",
        "colab_type": "code",
        "outputId": "68cdb92c-5020-4575-b028-625cc9cce1f1",
        "colab": {
          "base_uri": "https://localhost:8080/",
          "height": 33
        }
      },
      "source": [
        "L[0] = 50\n",
        "L"
      ],
      "execution_count": 13,
      "outputs": [
        {
          "output_type": "execute_result",
          "data": {
            "text/plain": [
              "[50, 6, 8, 9, 11]"
            ]
          },
          "metadata": {
            "tags": []
          },
          "execution_count": 13
        }
      ]
    },
    {
      "cell_type": "markdown",
      "metadata": {
        "id": "-vd26L1AlghQ",
        "colab_type": "text"
      },
      "source": [
        "9. Replace 2nd to 4th element of L into [22,33, 44]"
      ]
    },
    {
      "cell_type": "code",
      "metadata": {
        "id": "zLravIjAlghS",
        "colab_type": "code",
        "outputId": "effff8e5-89fd-4d23-f8c3-18d334a304e4",
        "colab": {
          "base_uri": "https://localhost:8080/",
          "height": 33
        }
      },
      "source": [
        "L[1:4] = [22,33,44] \n",
        "L"
      ],
      "execution_count": 14,
      "outputs": [
        {
          "output_type": "execute_result",
          "data": {
            "text/plain": [
              "[50, 22, 33, 44, 11]"
            ]
          },
          "metadata": {
            "tags": []
          },
          "execution_count": 14
        }
      ]
    },
    {
      "cell_type": "markdown",
      "metadata": {
        "id": "qZYWBdK4lgha",
        "colab_type": "text"
      },
      "source": [
        "10. Sort L in ascending order."
      ]
    },
    {
      "cell_type": "code",
      "metadata": {
        "id": "PsgfAy5hlghc",
        "colab_type": "code",
        "outputId": "5fb78d18-1311-42aa-fc11-44273b35ffe7",
        "colab": {
          "base_uri": "https://localhost:8080/",
          "height": 33
        }
      },
      "source": [
        "L.sort()\n",
        "L"
      ],
      "execution_count": 15,
      "outputs": [
        {
          "output_type": "execute_result",
          "data": {
            "text/plain": [
              "[11, 22, 33, 44, 50]"
            ]
          },
          "metadata": {
            "tags": []
          },
          "execution_count": 15
        }
      ]
    },
    {
      "cell_type": "code",
      "metadata": {
        "id": "2SMLhp7Nlghj",
        "colab_type": "code",
        "colab": {}
      },
      "source": [
        ""
      ],
      "execution_count": 0,
      "outputs": []
    }
  ]
}