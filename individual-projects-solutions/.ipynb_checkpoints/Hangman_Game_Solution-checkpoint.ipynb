{
 "cells": [
  {
   "cell_type": "markdown",
   "metadata": {},
   "source": [
    "# Individual Project Theme 2\n",
    "## Hangman Game"
   ]
  },
  {
   "cell_type": "markdown",
   "metadata": {},
   "source": [
    "**How to use this notebook and complete the project?**\n",
    "\n",
    "1. You need to answer all required questions by answering in the markdown cell.\n",
    "2. Read the instruction and fill in the #todo sections.\n",
    "3. Run all the cells to store the results of each codes.\n",
    "4. Save this notebook by clicking on `File`, then click `Download as`, choose `HTML`.\n",
    "5. Push this notebook to your GitHub reporitory by creating a new repository, named `AIP_IndividualProject`. Set this repository as `Private` until the day of your submission, which is on *29th June 2019, 1.30 PM*."
   ]
  },
  {
   "cell_type": "markdown",
   "metadata": {},
   "source": [
    "**Instructions:**\n",
    "\n",
    "Let's build a game: Hangman! Have you ever heard about Hangman game?\n",
    "It's a game to guess a word letter-by-letter, but, if they make too many wrong guesses, they'll lose.\n",
    "\n",
    "Now, it's the time for you to make a hangman game where player can player with a computer.\n"
   ]
  },
  {
   "cell_type": "markdown",
   "metadata": {},
   "source": [
    "**Question 1**:\n",
    "\n",
    "Draw a flowchart to write the program of this game. You may draw a flowchart by using *powerpoint*, then save it as a picture in `.jpg` or `.png`. Then, use this command to the *Answer* column below.\n",
    "`<img src=_____.jpg>`"
   ]
  },
  {
   "cell_type": "markdown",
   "metadata": {},
   "source": [
    "**Answer**:\n",
    "<img src= \"Flowchart_hangman.png\"  height=\"640\" width=\"480\">"
   ]
  },
  {
   "cell_type": "markdown",
   "metadata": {},
   "source": [
    "**Step 1**:\n",
    "\n",
    "Given a list of words, print a list of words at random."
   ]
  },
  {
   "cell_type": "code",
   "execution_count": 1,
   "metadata": {},
   "outputs": [
    {
     "name": "stdout",
     "output_type": "stream",
     "text": [
      "bad\n"
     ]
    }
   ],
   "source": [
    "from random import choice\n",
    "\n",
    "word = choice([\"pretty\", \"old\", \"young\", \"nice\", \"kind\", \"bad\", \"weak\", \"strong\", \"lazy\", \"weird\"])\n",
    "\n",
    "print(word)"
   ]
  },
  {
   "cell_type": "markdown",
   "metadata": {},
   "source": [
    "**Step 2**:\n",
    "\n",
    "#TODO\n",
    "\n",
    "Write a program to create the hangman game."
   ]
  },
  {
   "cell_type": "code",
   "execution_count": 2,
   "metadata": {
    "scrolled": true
   },
   "outputs": [
    {
     "name": "stdout",
     "output_type": "stream",
     "text": [
      "['_', '_', '_']\n",
      "\n",
      "guess a letter: a\n",
      "Correct!\n",
      "---------------------------------\n",
      "['_', 'a', '_']\n",
      "Guessed letters:  ['a']\n",
      "Guesses left:  3\n",
      "---------------------------------\n",
      "guess a letter: o\n",
      "Wrong!\n",
      "---------------------------------\n",
      "['_', 'a', '_']\n",
      "Guessed letters:  ['a', 'o']\n",
      "Guesses left:  2\n",
      "---------------------------------\n",
      "guess a letter: e\n",
      "Wrong!\n",
      "---------------------------------\n",
      "['_', 'a', '_']\n",
      "Guessed letters:  ['a', 'o', 'e']\n",
      "Guesses left:  1\n",
      "---------------------------------\n",
      "guess a letter: d\n",
      "Correct!\n",
      "---------------------------------\n",
      "['_', 'a', 'd']\n",
      "Guessed letters:  ['a', 'o', 'e', 'd']\n",
      "Guesses left:  1\n",
      "---------------------------------\n",
      "guess a letter: b\n",
      "Correct!\n",
      "---------------------------------\n",
      "['b', 'a', 'd']\n",
      "Guessed letters:  ['a', 'o', 'e', 'd', 'b']\n",
      "Guesses left:  1\n",
      "---------------------------------\n",
      "YOU WIN!\n",
      "The word is bad\n"
     ]
    }
   ],
   "source": [
    "#initialization\n",
    "guesses = 3       # Number of guesses\n",
    "count = 0\n",
    "win = False\n",
    "#create a list for guesed_letters\n",
    "guessed_letters = []\n",
    "\n",
    "#create temporary word\n",
    "tempword = []\n",
    "for i in word:\n",
    "    tempword.append(\"_\")\n",
    "print(tempword)\n",
    "print()\n",
    "\n",
    "while count < guesses and not win == True:\n",
    "    if '_' not in tempword:\n",
    "        print('YOU WIN!')\n",
    "        win = True\n",
    "        break\n",
    "    guess = input(\"guess a letter: \")\n",
    "    if guess in word:\n",
    "        for i in range(len(word)):\n",
    "            if word[i] == guess:\n",
    "                tempword[i] = guess\n",
    "        print(\"Correct!\")\n",
    "        print('---------------------------------')\n",
    "        print(tempword)\n",
    "        guessed_letters.append(guess)\n",
    "        print(\"Guessed letters: \", guessed_letters)\n",
    "        print(\"Guesses left: \", (3 - count))\n",
    "        print('---------------------------------')\n",
    "    else:\n",
    "        print(\"Wrong!\")\n",
    "        print('---------------------------------')\n",
    "        guessed_letters.append(guess)\n",
    "        print(tempword)\n",
    "        print(\"Guessed letters: \", guessed_letters)\n",
    "        print(\"Guesses left: \", (2 - count))\n",
    "        print('---------------------------------')\n",
    "        count+=1\n",
    "print(\"The word is\", word)"
   ]
  },
  {
   "cell_type": "markdown",
   "metadata": {},
   "source": [
    "**BONUS**\n",
    "\n",
    "Add another player, which is Player 2, make Player 1 and Player 2 play in turns to guess the word."
   ]
  },
  {
   "cell_type": "code",
   "execution_count": null,
   "metadata": {},
   "outputs": [],
   "source": []
  }
 ],
 "metadata": {
  "kernelspec": {
   "display_name": "Python 3",
   "language": "python",
   "name": "python3"
  },
  "language_info": {
   "codemirror_mode": {
    "name": "ipython",
    "version": 3
   },
   "file_extension": ".py",
   "mimetype": "text/x-python",
   "name": "python",
   "nbconvert_exporter": "python",
   "pygments_lexer": "ipython3",
   "version": "3.7.3"
  }
 },
 "nbformat": 4,
 "nbformat_minor": 2
}
