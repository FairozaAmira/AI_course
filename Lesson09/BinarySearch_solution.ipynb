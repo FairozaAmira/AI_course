{
 "cells": [
  {
   "cell_type": "markdown",
   "metadata": {},
   "source": [
    "# Solution for Binary Search Exercises"
   ]
  },
  {
   "cell_type": "markdown",
   "metadata": {},
   "source": [
    "**Question 1**\n",
    "\n",
    "Define a `LinearSearch` function and try to find a value in the list below.\n",
    "The list of numbers should be in increasing order.\n",
    "\n",
    "`Numbers = [3, 10, 11, 23, 45, 56, 63, 77, 89]\n",
    "test_val1 = 77\n",
    "test_val2 = 48\n",
    "test_val3 = 10`\n",
    "\n",
    "Use `%timeit` function to check how long the program will be."
   ]
  },
  {
   "cell_type": "markdown",
   "metadata": {},
   "source": [
    "Solution for this question is referred from https://www.geeksforgeeks.org/python-program-for-linear-search/"
   ]
  },
  {
   "cell_type": "code",
   "execution_count": 1,
   "metadata": {},
   "outputs": [
    {
     "name": "stdout",
     "output_type": "stream",
     "text": [
      "7\n",
      "3.16 µs ± 692 ns per loop (mean ± std. dev. of 7 runs, 100000 loops each)\n",
      "not in the list\n",
      "3.66 µs ± 535 ns per loop (mean ± std. dev. of 7 runs, 100000 loops each)\n",
      "1\n",
      "2.04 µs ± 194 ns per loop (mean ± std. dev. of 7 runs, 100000 loops each)\n"
     ]
    }
   ],
   "source": [
    "def LinearSearch (numbers, value):\n",
    "    for i in range(len(numbers)):\n",
    "        if numbers[i] == value:\n",
    "            return i\n",
    "    return \"not in the list\"\n",
    "\n",
    "Numbers = [3, 10, 11, 23, 45, 56, 63, 77, 89]\n",
    "test_val1 = 77\n",
    "test_val2 = 48\n",
    "test_val3 = 10\n",
    "\n",
    "print(LinearSearch(Numbers, test_val1))\n",
    "%timeit LinearSearch(Numbers, test_val1)\n",
    "\n",
    "print(LinearSearch(Numbers, test_val2))\n",
    "%timeit LinearSearch(Numbers, test_val2)\n",
    "\n",
    "print(LinearSearch(Numbers, test_val3))\n",
    "%timeit LinearSearch(Numbers, test_val3)"
   ]
  },
  {
   "cell_type": "markdown",
   "metadata": {},
   "source": [
    "**Question 2**\n",
    "\n",
    "Now, let's try to write `BinarySearch` function and use the same condition as in Question 1. Use `%timeit` function to check how long the program will be."
   ]
  },
  {
   "cell_type": "code",
   "execution_count": 2,
   "metadata": {},
   "outputs": [
    {
     "name": "stdout",
     "output_type": "stream",
     "text": [
      "7\n",
      "2.69 µs ± 375 ns per loop (mean ± std. dev. of 7 runs, 100000 loops each)\n",
      "not in the list\n",
      "2.68 µs ± 441 ns per loop (mean ± std. dev. of 7 runs, 100000 loops each)\n",
      "1\n",
      "1.66 µs ± 318 ns per loop (mean ± std. dev. of 7 runs, 100000 loops each)\n"
     ]
    }
   ],
   "source": [
    "def BinarySearch(numbers, value):\n",
    "    left = 0\n",
    "    right = len(numbers) - 1\n",
    "    \n",
    "    while (left <= right):\n",
    "        mid = int(left + (right - left) / 2)\n",
    "        if (numbers[mid] == value):\n",
    "            return mid\n",
    "        elif (numbers[mid] < value):\n",
    "            left = mid + 1\n",
    "        else:\n",
    "            right = mid - 1\n",
    "    return \"not in the list\"\n",
    "\n",
    "Numbers = [3, 10, 11, 23, 45, 56, 63, 77, 89]\n",
    "test_val1 = 77\n",
    "test_val2 = 48\n",
    "test_val3 = 10\n",
    "\n",
    "print(LinearSearch(Numbers, test_val1))\n",
    "%timeit LinearSearch(Numbers, test_val1)\n",
    "\n",
    "print(LinearSearch(Numbers, test_val2))\n",
    "%timeit LinearSearch(Numbers, test_val2)\n",
    "\n",
    "print(LinearSearch(Numbers, test_val3))\n",
    "%timeit LinearSearch(Numbers, test_val3)"
   ]
  },
  {
   "cell_type": "code",
   "execution_count": null,
   "metadata": {},
   "outputs": [],
   "source": []
  }
 ],
 "metadata": {
  "kernelspec": {
   "display_name": "Python 3",
   "language": "python",
   "name": "python3"
  },
  "language_info": {
   "codemirror_mode": {
    "name": "ipython",
    "version": 3
   },
   "file_extension": ".py",
   "mimetype": "text/x-python",
   "name": "python",
   "nbconvert_exporter": "python",
   "pygments_lexer": "ipython3",
   "version": "3.7.3"
  }
 },
 "nbformat": 4,
 "nbformat_minor": 2
}
