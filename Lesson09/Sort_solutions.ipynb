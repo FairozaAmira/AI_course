{
 "cells": [
  {
   "cell_type": "markdown",
   "metadata": {},
   "source": [
    "# Solutions for Sorting Algorithms Exercises"
   ]
  },
  {
   "cell_type": "markdown",
   "metadata": {},
   "source": [
    "**Question 1**\n",
    "\n",
    "Sort the numbers below by using Bubble Sort algorithm.\n",
    "\n",
    "Make a function called `BubbleSort` which takes argument of a list of numbers.\n",
    "Then, display the results of the sorted numbers.\n",
    "Find the processing time of this algorithm.\n",
    "\n",
    "The list of numbers are as below.\n",
    "\n",
    "`numbers = [56, 3, 1, 78, 24, 45, 67, 99, 35]`"
   ]
  },
  {
   "cell_type": "markdown",
   "metadata": {},
   "source": [
    "This solution is taken from https://www.w3resource.com/python-exercises/data-structures-and-algorithms/python-search-and-sorting-exercise-4.php"
   ]
  },
  {
   "cell_type": "code",
   "execution_count": 1,
   "metadata": {},
   "outputs": [
    {
     "name": "stdout",
     "output_type": "stream",
     "text": [
      "48 ns ± 0.55 ns per loop (mean ± std. dev. of 7 runs, 10000000 loops each)\n",
      "[1, 3, 24, 35, 45, 56, 67, 78, 99]\n"
     ]
    }
   ],
   "source": [
    "def BubbleSort(numbers):\n",
    "    lengthOfNumbers = len (numbers) - 1\n",
    "    for i in range (lengthOfNumbers):\n",
    "        for j in range (lengthOfNumbers - i):\n",
    "            if numbers[j] > numbers [j+1]:\n",
    "                numbers[j], numbers[j+1] = numbers[j+1], numbers[j]\n",
    "    return numbers\n",
    "\n",
    "numbers = [56, 3, 1, 78, 24, 45, 67, 99, 35]\n",
    "sorted_numbers = BubbleSort(numbers)\n",
    "%timeit sorted_numbers\n",
    "print(sorted_numbers)"
   ]
  },
  {
   "cell_type": "markdown",
   "metadata": {},
   "source": [
    "**Question 2**\n",
    "\n",
    "By using the same list of numbers as in Question 1, please write a `MergeSort` function, sort the numbers using merge sort algorithm, display the sorted numbers and display the processing time of this algorithm."
   ]
  },
  {
   "cell_type": "markdown",
   "metadata": {},
   "source": [
    "This solution is taken from https://www.simplifiedpython.net/merge-sort-python/"
   ]
  },
  {
   "cell_type": "code",
   "execution_count": 2,
   "metadata": {},
   "outputs": [
    {
     "name": "stdout",
     "output_type": "stream",
     "text": [
      "47.6 ns ± 2.41 ns per loop (mean ± std. dev. of 7 runs, 10000000 loops each)\n",
      "[1, 3, 24, 35, 45, 56, 67, 78, 99]\n"
     ]
    }
   ],
   "source": [
    "# Define definition for merge which basically takes two arrays i.e., the left and right part\n",
    "def merge(left, right):\n",
    "    result = []  # final result array, that is an empty array\n",
    "     #create two indices and initialize with 0\n",
    "    i,j = 0,0\n",
    "     # Till this condition is true, keep on appending elements into resultant array\n",
    "    while i<len(left) and j<len(right):\n",
    "        if left[i] <= right[j]:\n",
    "            result.append(left[i]) #append ith element of left into resultant array\n",
    "            i+=1\n",
    "        else:\n",
    "            result.append(right[j])  #append jth element of right into resultant array\n",
    "            j+=1\n",
    "     # it is basically specifies that if any element is remaining in the left array from -\n",
    "    # ith to the last index so that it should appended into the resultant array. And similar -\n",
    "    # to the right array.\n",
    "    result += left[i:]\n",
    "    result += right[j:]\n",
    "    return result\n",
    " \n",
    "# Definition for merge sort\n",
    "# this takes an input list\n",
    "def MergeSort(lst):\n",
    "    if(len(lst)<= 1): # this means that the list is already sorted.\n",
    "        return lst\n",
    "    mid = int(len(lst)/2)\n",
    "     # left array will be mergesort applied over the list from starting index \n",
    "    # till the mid index\n",
    "    left = MergeSort(lst[:mid])\n",
    "     # right array will be mergesort applied recursively over the list from mid index\n",
    "    # till the last index \n",
    "    right = MergeSort(lst[mid:])\n",
    " \n",
    "    return merge(left,right)  # finally return merge over left and right\n",
    "\n",
    "\n",
    "numbers = [56, 3, 1, 78, 24, 45, 67, 99, 35]\n",
    "sorted_numbers = MergeSort(numbers)\n",
    "%timeit sorted_numbers\n",
    "print(sorted_numbers)\n"
   ]
  },
  {
   "cell_type": "markdown",
   "metadata": {},
   "source": [
    "**Question 3**\n",
    "\n",
    "By using the same list of numbers as in Question 1, please write a `QuickSort` function, sort the numbers using quick sort algorithm, display the sorted numbers and display the processing time of this algorithm."
   ]
  },
  {
   "cell_type": "markdown",
   "metadata": {},
   "source": [
    "Solution is taken from https://www.codementor.io/garethdwyer/quicksort-tutorial-python-https://tutorialedge.net/compsci/sorting/quicksort-in-python/"
   ]
  },
  {
   "cell_type": "code",
   "execution_count": 3,
   "metadata": {},
   "outputs": [
    {
     "name": "stdout",
     "output_type": "stream",
     "text": [
      "47.9 ns ± 5.83 ns per loop (mean ± std. dev. of 7 runs, 10000000 loops each)\n",
      "[1, 3, 24, 35, 45, 56, 67, 78, 99]\n"
     ]
    }
   ],
   "source": [
    "def QuickSort(array):\n",
    "\n",
    "    # We define our 3 arrays\n",
    "    less = []\n",
    "    equal = []\n",
    "    greater = []\n",
    "\n",
    "    # if the length of our array is greater than 1\n",
    "    # we perform a sort\n",
    "    if len(array) > 1:\n",
    "        # Select our pivot. This doesn't have to be\n",
    "        # the first element of our array\n",
    "        pivot = array[0]\n",
    "\n",
    "        # recursively go through every element\n",
    "        # of the array passed in and sort appropriately\n",
    "        for x in array:\n",
    "            if x < pivot:\n",
    "                less.append(x)\n",
    "            if x == pivot:\n",
    "                equal.append(x)\n",
    "            if x > pivot:\n",
    "                greater.append(x)\n",
    "\n",
    "        # recursively call quicksort on gradually smaller and smaller\n",
    "        # arrays until we have a sorted list.\n",
    "        return QuickSort(less)+equal+QuickSort(greater)\n",
    "\n",
    "    else:\n",
    "        return array\n",
    "    \n",
    "numbers = [56, 3, 1, 78, 24, 45, 67, 99, 35]\n",
    "sorted_numbers = QuickSort(numbers)\n",
    "%timeit sorted_numbers\n",
    "print(sorted_numbers)"
   ]
  },
  {
   "cell_type": "code",
   "execution_count": null,
   "metadata": {},
   "outputs": [],
   "source": []
  }
 ],
 "metadata": {
  "kernelspec": {
   "display_name": "Python 3",
   "language": "python",
   "name": "python3"
  },
  "language_info": {
   "codemirror_mode": {
    "name": "ipython",
    "version": 3
   },
   "file_extension": ".py",
   "mimetype": "text/x-python",
   "name": "python",
   "nbconvert_exporter": "python",
   "pygments_lexer": "ipython3",
   "version": "3.7.3"
  }
 },
 "nbformat": 4,
 "nbformat_minor": 2
}
