{
  "nbformat": 4,
  "nbformat_minor": 0,
  "metadata": {
    "kernelspec": {
      "display_name": "Python 3",
      "language": "python",
      "name": "python3"
    },
    "language_info": {
      "codemirror_mode": {
        "name": "ipython",
        "version": 3
      },
      "file_extension": ".py",
      "mimetype": "text/x-python",
      "name": "python",
      "nbconvert_exporter": "python",
      "pygments_lexer": "ipython3",
      "version": "3.7.3"
    },
    "colab": {
      "name": "Arithmetic_answers.ipynb",
      "provenance": [],
      "collapsed_sections": [],
      "include_colab_link": true
    }
  },
  "cells": [
    {
      "cell_type": "markdown",
      "metadata": {
        "id": "view-in-github",
        "colab_type": "text"
      },
      "source": [
        "<a href=\"https://colab.research.google.com/github/FairozaAmira/AI_course/blob/master/Lesson02/Arithmetic_answers.ipynb\" target=\"_parent\"><img src=\"https://colab.research.google.com/assets/colab-badge.svg\" alt=\"Open In Colab\"/></a>"
      ]
    },
    {
      "cell_type": "markdown",
      "metadata": {
        "id": "Z8Y1lx2zhVRj",
        "colab_type": "text"
      },
      "source": [
        "# Answers for Arithmetic Questions"
      ]
    },
    {
      "cell_type": "markdown",
      "metadata": {
        "id": "vt2_SPQ3hVRt",
        "colab_type": "text"
      },
      "source": [
        "**Question 1** \n",
        "\n",
        "Calculate $((5 + 2) \\times (12 \\div 4))$"
      ]
    },
    {
      "cell_type": "code",
      "metadata": {
        "id": "paVtbPjYhVRv",
        "colab_type": "code",
        "outputId": "d39338bd-980d-4610-bd9d-f359e7dde5d7",
        "colab": {}
      },
      "source": [
        "print ((5 + 2) * (12 / 4))"
      ],
      "execution_count": 0,
      "outputs": [
        {
          "output_type": "stream",
          "text": [
            "21.0\n"
          ],
          "name": "stdout"
        }
      ]
    },
    {
      "cell_type": "markdown",
      "metadata": {
        "id": "QzJ9Ga28hVR8",
        "colab_type": "text"
      },
      "source": [
        "**Question 2**\n",
        "\n",
        "Show $11 / 3$"
      ]
    },
    {
      "cell_type": "code",
      "metadata": {
        "id": "QL1xL0PChVR-",
        "colab_type": "code",
        "outputId": "1191d389-bdcd-4a0d-f589-fdffba91df13",
        "colab": {}
      },
      "source": [
        "print( 11 / 3 )"
      ],
      "execution_count": 0,
      "outputs": [
        {
          "output_type": "stream",
          "text": [
            "3.6666666666666665\n"
          ],
          "name": "stdout"
        }
      ]
    },
    {
      "cell_type": "markdown",
      "metadata": {
        "id": "zs2MKvp_hVSI",
        "colab_type": "text"
      },
      "source": [
        "**Question 3**\n",
        "\n",
        "Show $11 // 3$"
      ]
    },
    {
      "cell_type": "code",
      "metadata": {
        "id": "4sTCesNFhVSK",
        "colab_type": "code",
        "outputId": "808066a4-5b6f-482d-d3a6-b4aa23dd3186",
        "colab": {}
      },
      "source": [
        "print( 11 // 3 )"
      ],
      "execution_count": 0,
      "outputs": [
        {
          "output_type": "stream",
          "text": [
            "3\n"
          ],
          "name": "stdout"
        }
      ]
    },
    {
      "cell_type": "markdown",
      "metadata": {
        "id": "kjUUcjBehVSO",
        "colab_type": "text"
      },
      "source": [
        "**Question 4**\n",
        "\n",
        "Calculate $2^5$"
      ]
    },
    {
      "cell_type": "code",
      "metadata": {
        "id": "gucLxXfAhVSQ",
        "colab_type": "code",
        "outputId": "4481abe4-8943-41f9-d9af-97bee8a15040",
        "colab": {}
      },
      "source": [
        "print(2**5)"
      ],
      "execution_count": 0,
      "outputs": [
        {
          "output_type": "stream",
          "text": [
            "7\n"
          ],
          "name": "stdout"
        }
      ]
    },
    {
      "cell_type": "markdown",
      "metadata": {
        "id": "crtF6X1ehVSZ",
        "colab_type": "text"
      },
      "source": [
        "**Answer the following questions:**\n",
        "\n",
        "1. What is the difference between / and // ?\n",
        "2. Try to practice with lots of mathematical equations.\n"
      ]
    }
  ]
}